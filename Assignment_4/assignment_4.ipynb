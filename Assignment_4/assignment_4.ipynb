{
 "cells": [
  {
   "cell_type": "markdown",
   "metadata": {
    "collapsed": true,
    "pycharm": {
     "name": "#%% md\n"
    }
   },
   "source": [
    "DAT340, Assignment 4\n",
    "\n",
    "Romain THEODET"
   ]
  },
  {
   "cell_type": "markdown",
   "source": [
    "### Exercise question\n",
    "\n",
    "With the first training set, the model could \"memorize\" that it rains in Gothenburg or in December,\n",
    "while for the second training set, the threshold isn't that obvious."
   ],
   "metadata": {
    "collapsed": false
   }
  },
  {
   "cell_type": "code",
   "execution_count": 66,
   "outputs": [],
   "source": [
    "from sklearn.model_selection import train_test_split\n",
    "\n",
    "\n",
    "def read_data(corpus_file):\n",
    "    X = []\n",
    "    Y = []\n",
    "    with open(corpus_file, encoding=\"utf-8\") as f:\n",
    "        for line in f:\n",
    "            _, y, _, x = line.split(maxsplit=3)\n",
    "            X.append(x.strip())\n",
    "            Y.append(y)\n",
    "    return X, Y\n",
    "\n",
    "\n",
    "# Read all the documents.\n",
    "X, Y = read_data(\"data/all_sentiment_shuffled.txt\")\n",
    "\n",
    "# Split into training and test parts.\n",
    "Xtrain, Xtest, Ytrain, Ytest = train_test_split(X, Y, test_size=0.2, random_state=0)\n"
   ],
   "metadata": {
    "collapsed": false,
    "pycharm": {
     "name": "#%%\n"
    }
   }
  },
  {
   "cell_type": "markdown",
   "source": [
    "### SVC implementation"
   ],
   "metadata": {
    "collapsed": false
   }
  },
  {
   "cell_type": "code",
   "execution_count": 67,
   "outputs": [
    {
     "name": "stdout",
     "output_type": "stream",
     "text": [
      "Iteration 1*10^3, average loss: 0.8985\n",
      "Iteration 2*10^3, average loss: 0.7027\n",
      "Iteration 3*10^3, average loss: 0.6185\n",
      "Iteration 4*10^3, average loss: 0.5775\n",
      "Iteration 5*10^3, average loss: 0.5494\n",
      "Iteration 6*10^3, average loss: 0.5290\n",
      "Iteration 7*10^3, average loss: 0.5138\n",
      "Iteration 8*10^3, average loss: 0.5043\n",
      "Iteration 9*10^3, average loss: 0.4925\n",
      "Iteration 1*10^4, average loss: 0.4858\n",
      "Iteration 2*10^4, average loss: 0.4545\n",
      "Iteration 3*10^4, average loss: 0.4410\n",
      "Iteration 4*10^4, average loss: 0.4359\n",
      "Iteration 5*10^4, average loss: 0.4336\n",
      "Iteration 6*10^4, average loss: 0.4318\n",
      "Iteration 7*10^4, average loss: 0.4282\n",
      "Iteration 8*10^4, average loss: 0.4275\n",
      "Iteration 9*10^4, average loss: 0.4274\n",
      "\n",
      "Training time for SVC: 3.28 sec.\n",
      "Accuracy for SVC: 0.8196.\n"
     ]
    }
   ],
   "source": [
    "import time\n",
    "from sklearn.metrics import accuracy_score\n",
    "from sklearn.preprocessing import Normalizer\n",
    "from sklearn.feature_selection import SelectKBest\n",
    "from sklearn.feature_extraction.text import TfidfVectorizer\n",
    "from sklearn.pipeline import make_pipeline\n",
    "import pegasos\n",
    "\n",
    "# Set up the preprocessing steps and the classifier.\n",
    "pipeline = make_pipeline(\n",
    "    TfidfVectorizer(),\n",
    "    SelectKBest(k=1000),\n",
    "    Normalizer(),\n",
    "    pegasos.PegasosSVC()\n",
    ")\n",
    "\n",
    "# Train the classifier.\n",
    "t0 = time.time()\n",
    "pipeline.fit(Xtrain, Ytrain)\n",
    "t1 = time.time()\n",
    "\n",
    "print()\n",
    "print(\"Training time for SVC: {:.2f} sec.\".format(t1 - t0))\n",
    "\n",
    "# Evaluate on the test set.\n",
    "Yguess = pipeline.predict(Xtest)\n",
    "print(\"Accuracy for SVC: {:.4f}.\".format(accuracy_score(Ytest, Yguess)))\n"
   ],
   "metadata": {
    "collapsed": false,
    "pycharm": {
     "name": "#%%\n"
    }
   }
  },
  {
   "cell_type": "markdown",
   "source": [
    "### Logistic regression implementation"
   ],
   "metadata": {
    "collapsed": false
   }
  },
  {
   "cell_type": "code",
   "execution_count": 68,
   "outputs": [
    {
     "name": "stdout",
     "output_type": "stream",
     "text": [
      "Iteration 1*10^3, average loss: 0.6310\n",
      "Iteration 2*10^3, average loss: 0.5603\n",
      "Iteration 3*10^3, average loss: 0.5334\n",
      "Iteration 4*10^3, average loss: 0.5182\n",
      "Iteration 5*10^3, average loss: 0.5115\n",
      "Iteration 6*10^3, average loss: 0.5082\n",
      "Iteration 7*10^3, average loss: 0.5024\n",
      "Iteration 8*10^3, average loss: 0.5002\n",
      "Iteration 9*10^3, average loss: 0.4971\n",
      "Iteration 1*10^4, average loss: 0.4959\n",
      "Iteration 2*10^4, average loss: 0.4838\n",
      "Iteration 3*10^4, average loss: 0.4802\n",
      "Iteration 4*10^4, average loss: 0.4783\n",
      "Iteration 5*10^4, average loss: 0.4774\n",
      "Iteration 6*10^4, average loss: 0.4762\n",
      "Iteration 7*10^4, average loss: 0.4759\n",
      "Iteration 8*10^4, average loss: 0.4755\n",
      "Iteration 9*10^4, average loss: 0.4753\n",
      "Training time for LR: 4.46 sec.\n",
      "Accuracy for LR: 0.8078.\n"
     ]
    }
   ],
   "source": [
    "import time\n",
    "from sklearn.metrics import accuracy_score\n",
    "from sklearn.preprocessing import Normalizer\n",
    "from sklearn.feature_selection import SelectKBest\n",
    "from sklearn.feature_extraction.text import TfidfVectorizer\n",
    "from sklearn.pipeline import make_pipeline\n",
    "\n",
    "# Set up the preprocessing steps and the classifier.\n",
    "pipeline = make_pipeline(\n",
    "    TfidfVectorizer(),\n",
    "    SelectKBest(k=1000),\n",
    "    Normalizer(),\n",
    "    pegasos.PegasosLR()\n",
    ")\n",
    "\n",
    "# Train the classifier.\n",
    "t0 = time.time()\n",
    "pipeline.fit(Xtrain, Ytrain)\n",
    "t1 = time.time()\n",
    "print(\"Training time for LR: {:.2f} sec.\".format(t1 - t0))\n",
    "\n",
    "# Evaluate on the test set.\n",
    "Yguess = pipeline.predict(Xtest)\n",
    "print(\"Accuracy for LR: {:.4f}.\".format(accuracy_score(Ytest, Yguess)))"
   ],
   "metadata": {
    "collapsed": false,
    "pycharm": {
     "name": "#%%\n"
    }
   }
  },
  {
   "cell_type": "markdown",
   "source": [
    "### Sparse matrices\n",
    "\n",
    "Using sparce matrices, we can (try to) speed up the fitting process.\n",
    "\n",
    "Here, we implemented the task 1.b and 1.c of the assignment.\n",
    "\n",
    "### SVC implementation using sparse matrices"
   ],
   "metadata": {
    "collapsed": false
   }
  },
  {
   "cell_type": "code",
   "execution_count": 69,
   "outputs": [
    {
     "name": "stdout",
     "output_type": "stream",
     "text": [
      "Iteration 1*10^3, average loss: 0.7498\n",
      "Iteration 2*10^3, average loss: 0.6575\n",
      "Iteration 3*10^3, average loss: 0.6159\n",
      "Iteration 4*10^3, average loss: 0.5939\n",
      "Iteration 5*10^3, average loss: 0.5819\n",
      "Iteration 6*10^3, average loss: 0.5784\n",
      "Iteration 7*10^3, average loss: 0.5706\n",
      "Iteration 8*10^3, average loss: 0.5646\n",
      "Iteration 9*10^3, average loss: 0.5624\n",
      "Iteration 1*10^4, average loss: 0.5595\n",
      "Iteration 2*10^4, average loss: 0.5418\n",
      "Iteration 3*10^4, average loss: 0.5343\n",
      "Iteration 4*10^4, average loss: 0.5283\n",
      "Iteration 5*10^4, average loss: 0.5245\n",
      "Iteration 6*10^4, average loss: 0.5216\n",
      "Iteration 7*10^4, average loss: 0.5187\n",
      "Iteration 8*10^4, average loss: 0.5165\n",
      "Iteration 9*10^4, average loss: 0.5145\n",
      "\n",
      "Training time for sparse SVC: 4.87 sec.\n",
      "Accuracy for sparse SVC: 0.8053.\n"
     ]
    }
   ],
   "source": [
    "import pegasos_sparse\n",
    "\n",
    "# Set up the preprocessing steps and the classifier.\n",
    "pipeline = make_pipeline(\n",
    "    TfidfVectorizer(),\n",
    "    Normalizer(),\n",
    "    pegasos_sparse.PegasosSVCSparse()\n",
    ")\n",
    "\n",
    "# Train the classifier.\n",
    "t0 = time.time()\n",
    "pipeline.fit(Xtrain, Ytrain)\n",
    "t1 = time.time()\n",
    "\n",
    "print()\n",
    "print(\"Training time for sparse SVC: {:.2f} sec.\".format(t1 - t0))\n",
    "\n",
    "# Evaluate on the test set.\n",
    "Yguess = pipeline.predict(Xtest)\n",
    "print(\"Accuracy for sparse SVC: {:.4f}.\".format(accuracy_score(Ytest, Yguess)))"
   ],
   "metadata": {
    "collapsed": false,
    "pycharm": {
     "name": "#%%\n"
    }
   }
  },
  {
   "cell_type": "markdown",
   "source": [
    "### LR implementation using sparse matrices"
   ],
   "metadata": {
    "collapsed": false
   }
  },
  {
   "cell_type": "code",
   "execution_count": 70,
   "outputs": [
    {
     "name": "stdout",
     "output_type": "stream",
     "text": [
      "Iteration 1*10^3, average loss: 0.6447\n",
      "Iteration 2*10^3, average loss: 0.6026\n",
      "Iteration 3*10^3, average loss: 0.5900\n",
      "Iteration 4*10^3, average loss: 0.5827\n",
      "Iteration 5*10^3, average loss: 0.5783\n",
      "Iteration 6*10^3, average loss: 0.5757\n",
      "Iteration 7*10^3, average loss: 0.5740\n",
      "Iteration 8*10^3, average loss: 0.5717\n",
      "Iteration 9*10^3, average loss: 0.5699\n",
      "Iteration 1*10^4, average loss: 0.5690\n",
      "Iteration 2*10^4, average loss: 0.5620\n",
      "Iteration 3*10^4, average loss: 0.5605\n",
      "Iteration 4*10^4, average loss: 0.5591\n",
      "Iteration 5*10^4, average loss: 0.5584\n",
      "Iteration 6*10^4, average loss: 0.5577\n",
      "Iteration 7*10^4, average loss: 0.5573\n",
      "Iteration 8*10^4, average loss: 0.5570\n",
      "Iteration 9*10^4, average loss: 0.5566\n",
      "\n",
      "Training time for sparse SVC: 11.36 sec.\n",
      "Accuracy for sparse SVC: 0.7948.\n"
     ]
    }
   ],
   "source": [
    "# Set up the preprocessing steps and the classifier.\n",
    "pipeline = make_pipeline(\n",
    "    TfidfVectorizer(),\n",
    "    Normalizer(),\n",
    "    pegasos_sparse.PegasosLRSparse()\n",
    ")\n",
    "\n",
    "# Train the classifier.\n",
    "t0 = time.time()\n",
    "pipeline.fit(Xtrain, Ytrain)\n",
    "t1 = time.time()\n",
    "\n",
    "print()\n",
    "print(\"Training time for sparse SVC: {:.2f} sec.\".format(t1 - t0))\n",
    "\n",
    "# Evaluate on the test set.\n",
    "Yguess = pipeline.predict(Xtest)\n",
    "print(\"Accuracy for sparse SVC: {:.4f}.\".format(accuracy_score(Ytest, Yguess)))\n"
   ],
   "metadata": {
    "collapsed": false,
    "pycharm": {
     "name": "#%%\n"
    }
   }
  }
 ],
 "metadata": {
  "kernelspec": {
   "display_name": "Python 3",
   "language": "python",
   "name": "python3"
  },
  "language_info": {
   "codemirror_mode": {
    "name": "ipython",
    "version": 2
   },
   "file_extension": ".py",
   "mimetype": "text/x-python",
   "name": "python",
   "nbconvert_exporter": "python",
   "pygments_lexer": "ipython2",
   "version": "2.7.6"
  }
 },
 "nbformat": 4,
 "nbformat_minor": 0
}