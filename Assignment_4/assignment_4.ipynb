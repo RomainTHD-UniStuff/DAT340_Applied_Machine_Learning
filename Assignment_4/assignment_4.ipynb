{
 "cells": [
  {
   "cell_type": "markdown",
   "metadata": {
    "collapsed": true,
    "pycharm": {
     "name": "#%% md\n"
    }
   },
   "source": [
    "DAT340, Assignment 4\n",
    "\n",
    "Romain THEODET"
   ]
  },
  {
   "cell_type": "markdown",
   "source": [
    "### Exercise question\n",
    "\n",
    "With the first training set, the model could \"memorize\" that it rains in Gothenburg or in December,\n",
    "while for the second training set, the threshold isn't that obvious."
   ],
   "metadata": {
    "collapsed": false
   }
  },
  {
   "cell_type": "code",
   "execution_count": 1,
   "outputs": [],
   "source": [
    "from sklearn.model_selection import train_test_split\n",
    "\n",
    "\n",
    "def read_data(corpus_file):\n",
    "    X = []\n",
    "    Y = []\n",
    "    with open(corpus_file, encoding=\"utf-8\") as f:\n",
    "        for line in f:\n",
    "            _, y, _, x = line.split(maxsplit=3)\n",
    "            X.append(x.strip())\n",
    "            Y.append(y)\n",
    "    return X, Y\n",
    "\n",
    "\n",
    "# Read all the documents.\n",
    "X, Y = read_data(\"data/all_sentiment_shuffled.txt\")\n",
    "\n",
    "# Split into training and test parts.\n",
    "Xtrain, Xtest, Ytrain, Ytest = train_test_split(X, Y, test_size=0.2, random_state=0)\n"
   ],
   "metadata": {
    "collapsed": false,
    "pycharm": {
     "name": "#%%\n"
    }
   }
  },
  {
   "cell_type": "markdown",
   "source": [
    "### SVC implementation"
   ],
   "metadata": {
    "collapsed": false
   }
  },
  {
   "cell_type": "code",
   "execution_count": 2,
   "outputs": [
    {
     "name": "stdout",
     "output_type": "stream",
     "text": [
      "Iteration 1*10^3, average loss: 1.0728\n",
      "Iteration 2*10^3, average loss: 0.7800\n",
      "Iteration 3*10^3, average loss: 0.6764\n",
      "Iteration 4*10^3, average loss: 0.6257\n",
      "Iteration 5*10^3, average loss: 0.5856\n",
      "Iteration 6*10^3, average loss: 0.5607\n",
      "Iteration 7*10^3, average loss: 0.5429\n",
      "Iteration 8*10^3, average loss: 0.5301\n",
      "Iteration 9*10^3, average loss: 0.5169\n",
      "Iteration 1*10^4, average loss: 0.5053\n",
      "Iteration 2*10^4, average loss: 0.4623\n",
      "Iteration 3*10^4, average loss: 0.4480\n",
      "Iteration 4*10^4, average loss: 0.4415\n",
      "Iteration 5*10^4, average loss: 0.4377\n",
      "Iteration 6*10^4, average loss: 0.4359\n",
      "Iteration 7*10^4, average loss: 0.4331\n",
      "Iteration 8*10^4, average loss: 0.4315\n",
      "Iteration 9*10^4, average loss: 0.4299\n",
      "\n",
      "Training time for SVC: 6.20 sec.\n",
      "Accuracy for SVC: 0.8225.\n"
     ]
    }
   ],
   "source": [
    "import time\n",
    "from sklearn.metrics import accuracy_score\n",
    "from sklearn.preprocessing import Normalizer\n",
    "from sklearn.feature_selection import SelectKBest\n",
    "from sklearn.feature_extraction.text import TfidfVectorizer\n",
    "from sklearn.pipeline import make_pipeline\n",
    "import pegasos\n",
    "\n",
    "# Set up the preprocessing steps and the classifier.\n",
    "pipeline = make_pipeline(\n",
    "    TfidfVectorizer(),\n",
    "    SelectKBest(k=1000),\n",
    "    Normalizer(),\n",
    "    pegasos.PegasosSVC()\n",
    ")\n",
    "\n",
    "# Train the classifier.\n",
    "t0 = time.time()\n",
    "pipeline.fit(Xtrain, Ytrain)\n",
    "t1 = time.time()\n",
    "\n",
    "print()\n",
    "print(\"Training time for SVC: {:.2f} sec.\".format(t1 - t0))\n",
    "\n",
    "# Evaluate on the test set.\n",
    "Yguess = pipeline.predict(Xtest)\n",
    "print(\"Accuracy for SVC: {:.4f}.\".format(accuracy_score(Ytest, Yguess)))\n"
   ],
   "metadata": {
    "collapsed": false,
    "pycharm": {
     "name": "#%%\n"
    }
   }
  },
  {
   "cell_type": "markdown",
   "source": [
    "### Logistic regression implementation"
   ],
   "metadata": {
    "collapsed": false
   }
  },
  {
   "cell_type": "code",
   "execution_count": 6,
   "outputs": [
    {
     "name": "stdout",
     "output_type": "stream",
     "text": [
      "Iteration 1*10^3, average loss: 0.8854\n",
      "Iteration 2*10^3, average loss: 0.6788\n",
      "Iteration 3*10^3, average loss: 0.6117\n",
      "Iteration 4*10^3, average loss: 0.5759\n",
      "Iteration 5*10^3, average loss: 0.5557\n",
      "Iteration 6*10^3, average loss: 0.5413\n",
      "Iteration 7*10^3, average loss: 0.5308\n",
      "Iteration 8*10^3, average loss: 0.5237\n",
      "Iteration 9*10^3, average loss: 0.5166\n",
      "Iteration 1*10^4, average loss: 0.5126\n",
      "Iteration 2*10^4, average loss: 0.4928\n",
      "Iteration 3*10^4, average loss: 0.4864\n",
      "Iteration 4*10^4, average loss: 0.4829\n",
      "Iteration 5*10^4, average loss: 0.4810\n",
      "Iteration 6*10^4, average loss: 0.4789\n",
      "Iteration 7*10^4, average loss: 0.4779\n",
      "Iteration 8*10^4, average loss: 0.4773\n",
      "Iteration 9*10^4, average loss: 0.4766\n",
      "\n",
      "Training time for LR: 11.19 sec.\n",
      "Accuracy for LR: 0.8061.\n"
     ]
    }
   ],
   "source": [
    "import time\n",
    "from sklearn.metrics import accuracy_score\n",
    "from sklearn.preprocessing import Normalizer\n",
    "from sklearn.feature_selection import SelectKBest\n",
    "from sklearn.feature_extraction.text import TfidfVectorizer\n",
    "from sklearn.pipeline import make_pipeline\n",
    "\n",
    "# Set up the preprocessing steps and the classifier.\n",
    "pipeline = make_pipeline(\n",
    "    TfidfVectorizer(),\n",
    "    SelectKBest(k=1000),\n",
    "    Normalizer(),\n",
    "    pegasos.PegasosLR()\n",
    ")\n",
    "\n",
    "# Train the classifier.\n",
    "t0 = time.time()\n",
    "pipeline.fit(Xtrain, Ytrain)\n",
    "t1 = time.time()\n",
    "\n",
    "print()\n",
    "print(\"Training time for LR: {:.2f} sec.\".format(t1 - t0))\n",
    "\n",
    "# Evaluate on the test set.\n",
    "Yguess = pipeline.predict(Xtest)\n",
    "print(\"Accuracy for LR: {:.4f}.\".format(accuracy_score(Ytest, Yguess)))"
   ],
   "metadata": {
    "collapsed": false,
    "pycharm": {
     "name": "#%%\n"
    }
   }
  },
  {
   "cell_type": "markdown",
   "source": [
    "### Sparse matrices\n",
    "\n",
    "Using sparce matrices, we can (try to) speed up the fitting process.\n",
    "\n",
    "Here, we implemented the tasks 1.b and 1.c of the assignment.\n",
    "\n",
    "### SVC implementation using sparse matrices"
   ],
   "metadata": {
    "collapsed": false
   }
  },
  {
   "cell_type": "code",
   "execution_count": 8,
   "outputs": [
    {
     "name": "stdout",
     "output_type": "stream",
     "text": [
      "Iteration 1*10^3, average loss: 9.7449\n",
      "Iteration 2*10^3, average loss: 5.7722\n",
      "Iteration 3*10^3, average loss: 4.2145\n",
      "Iteration 4*10^3, average loss: 3.3652\n",
      "Iteration 5*10^3, average loss: 2.8044\n",
      "Iteration 6*10^3, average loss: 2.4032\n",
      "Iteration 7*10^3, average loss: 2.1153\n",
      "Iteration 8*10^3, average loss: 1.8971\n",
      "Iteration 9*10^3, average loss: 1.7260\n",
      "Iteration 1*10^4, average loss: 1.5811\n",
      "Iteration 2*10^4, average loss: 0.8917\n",
      "Iteration 3*10^4, average loss: 0.6389\n",
      "Iteration 4*10^4, average loss: 0.5067\n",
      "Iteration 5*10^4, average loss: 0.4231\n",
      "Iteration 6*10^4, average loss: 0.3653\n",
      "Iteration 7*10^4, average loss: 0.3235\n",
      "Iteration 8*10^4, average loss: 0.2920\n",
      "Iteration 9*10^4, average loss: 0.2667\n",
      "\n",
      "Training time for sparse SVC: 7.62 sec.\n",
      "Accuracy for sparse SVC: 0.8355.\n"
     ]
    }
   ],
   "source": [
    "import pegasos_sparse\n",
    "\n",
    "# Set up the preprocessing steps and the classifier.\n",
    "pipeline = make_pipeline(\n",
    "    TfidfVectorizer(),\n",
    "    Normalizer(),\n",
    "    pegasos_sparse.PegasosSVCSparse()\n",
    ")\n",
    "\n",
    "# Train the classifier.\n",
    "t0 = time.time()\n",
    "pipeline.fit(Xtrain, Ytrain)\n",
    "t1 = time.time()\n",
    "\n",
    "print()\n",
    "print(\"Training time for sparse SVC: {:.2f} sec.\".format(t1 - t0))\n",
    "\n",
    "# Evaluate on the test set.\n",
    "Yguess = pipeline.predict(Xtest)\n",
    "print(\"Accuracy for sparse SVC: {:.4f}.\".format(accuracy_score(Ytest, Yguess)))"
   ],
   "metadata": {
    "collapsed": false,
    "pycharm": {
     "name": "#%%\n"
    }
   }
  },
  {
   "cell_type": "markdown",
   "source": [
    "### LR implementation using sparse matrices"
   ],
   "metadata": {
    "collapsed": false
   }
  },
  {
   "cell_type": "code",
   "execution_count": 11,
   "outputs": [
    {
     "name": "stdout",
     "output_type": "stream",
     "text": [
      "Iteration 1*10^3, average loss: 7.8656\n",
      "Iteration 2*10^3, average loss: 4.5425\n",
      "Iteration 3*10^3, average loss: 3.2869\n",
      "Iteration 4*10^3, average loss: 2.5816\n",
      "Iteration 5*10^3, average loss: 2.1335\n",
      "Iteration 6*10^3, average loss: 1.8311\n",
      "Iteration 7*10^3, average loss: 1.6075\n",
      "Iteration 8*10^3, average loss: 1.4418\n",
      "Iteration 9*10^3, average loss: 1.3104\n",
      "Iteration 1*10^4, average loss: 1.2041\n",
      "Iteration 2*10^4, average loss: 0.7113\n",
      "Iteration 3*10^4, average loss: 0.5434\n",
      "Iteration 4*10^4, average loss: 0.4586\n",
      "Iteration 5*10^4, average loss: 0.4083\n",
      "Iteration 6*10^4, average loss: 0.3740\n",
      "Iteration 7*10^4, average loss: 0.3499\n",
      "Iteration 8*10^4, average loss: 0.3310\n",
      "Iteration 9*10^4, average loss: 0.3167\n",
      "\n",
      "Training time for sparse SVC: 32.32 sec.\n",
      "Accuracy for sparse SVC: 0.8410.\n"
     ]
    }
   ],
   "source": [
    "# Set up the preprocessing steps and the classifier.\n",
    "pipeline = make_pipeline(\n",
    "    TfidfVectorizer(),\n",
    "    Normalizer(),\n",
    "    pegasos_sparse.PegasosLRSparse()\n",
    ")\n",
    "\n",
    "# Train the classifier.\n",
    "t0 = time.time()\n",
    "pipeline.fit(Xtrain, Ytrain)\n",
    "t1 = time.time()\n",
    "\n",
    "print()\n",
    "print(\"Training time for sparse SVC: {:.2f} sec.\".format(t1 - t0))\n",
    "\n",
    "# Evaluate on the test set.\n",
    "Yguess = pipeline.predict(Xtest)\n",
    "print(\"Accuracy for sparse SVC: {:.4f}.\".format(accuracy_score(Ytest, Yguess)))\n"
   ],
   "metadata": {
    "collapsed": false,
    "pycharm": {
     "name": "#%%\n"
    }
   }
  }
 ],
 "metadata": {
  "kernelspec": {
   "display_name": "Python 3",
   "language": "python",
   "name": "python3"
  },
  "language_info": {
   "codemirror_mode": {
    "name": "ipython",
    "version": 2
   },
   "file_extension": ".py",
   "mimetype": "text/x-python",
   "name": "python",
   "nbconvert_exporter": "python",
   "pygments_lexer": "ipython2",
   "version": "2.7.6"
  }
 },
 "nbformat": 4,
 "nbformat_minor": 0
}