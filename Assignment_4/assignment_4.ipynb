{
 "cells": [
  {
   "cell_type": "markdown",
   "metadata": {
    "collapsed": true,
    "pycharm": {
     "name": "#%% md\n"
    }
   },
   "source": [
    "DAT340, Assignment 4\n",
    "\n",
    "Romain THEODET"
   ]
  },
  {
   "cell_type": "markdown",
   "source": [
    "### Exercise question\n",
    "\n",
    "TODO:"
   ],
   "metadata": {
    "collapsed": false
   }
  },
  {
   "cell_type": "code",
   "execution_count": 29,
   "outputs": [],
   "source": [
    "from importlib import reload\n",
    "from sklearn.model_selection import train_test_split\n",
    "import pegasos\n",
    "reload(pegasos)\n",
    "\n",
    "def read_data(corpus_file):\n",
    "    X = []\n",
    "    Y = []\n",
    "    with open(corpus_file, encoding=\"utf-8\") as f:\n",
    "        for line in f:\n",
    "            _, y, _, x = line.split(maxsplit=3)\n",
    "            X.append(x.strip())\n",
    "            Y.append(y)\n",
    "    return X, Y\n",
    "\n",
    "\n",
    "# Read all the documents.\n",
    "X, Y = read_data(\"data/all_sentiment_shuffled.txt\")\n",
    "\n",
    "# Split into training and test parts.\n",
    "Xtrain, Xtest, Ytrain, Ytest = train_test_split(X, Y, test_size=0.2, random_state=0)\n"
   ],
   "metadata": {
    "collapsed": false,
    "pycharm": {
     "name": "#%%\n"
    }
   }
  },
  {
   "cell_type": "markdown",
   "source": [
    "### SVC implementation"
   ],
   "metadata": {
    "collapsed": false
   }
  },
  {
   "cell_type": "code",
   "execution_count": 28,
   "outputs": [
    {
     "name": "stdout",
     "output_type": "stream",
     "text": [
      "Iteration 1*10^3, average loss: 0.9352\n",
      "Iteration 2*10^3, average loss: 0.7169\n",
      "Iteration 3*10^3, average loss: 0.6334\n",
      "Iteration 4*10^3, average loss: 0.5807\n",
      "Iteration 5*10^3, average loss: 0.5519\n",
      "Iteration 6*10^3, average loss: 0.5336\n",
      "Iteration 7*10^3, average loss: 0.5253\n",
      "Iteration 8*10^3, average loss: 0.5109\n",
      "Iteration 9*10^3, average loss: 0.5032\n",
      "Iteration 1*10^4, average loss: 0.4936\n",
      "Iteration 2*10^4, average loss: 0.4627\n",
      "Iteration 3*10^4, average loss: 0.4495\n",
      "Iteration 4*10^4, average loss: 0.4424\n",
      "Iteration 5*10^4, average loss: 0.4375\n",
      "Iteration 6*10^4, average loss: 0.4344\n",
      "Iteration 7*10^4, average loss: 0.4331\n",
      "Iteration 8*10^4, average loss: 0.4316\n",
      "Iteration 9*10^4, average loss: 0.4296\n",
      "\n",
      "Training time for SVC: 3.21 sec.\n",
      "Accuracy for SVC: 0.8217.\n"
     ]
    }
   ],
   "source": [
    "import time\n",
    "from sklearn.metrics import accuracy_score\n",
    "from sklearn.preprocessing import Normalizer\n",
    "from sklearn.feature_selection import SelectKBest\n",
    "from sklearn.feature_extraction.text import TfidfVectorizer\n",
    "from sklearn.pipeline import make_pipeline\n",
    "\n",
    "# Set up the preprocessing steps and the classifier.\n",
    "pipeline = make_pipeline(\n",
    "    TfidfVectorizer(),\n",
    "    SelectKBest(k=1000),\n",
    "    Normalizer(),\n",
    "    pegasos.PegasosSVC()\n",
    ")\n",
    "\n",
    "# Train the classifier.\n",
    "t0 = time.time()\n",
    "pipeline.fit(Xtrain, Ytrain)\n",
    "t1 = time.time()\n",
    "\n",
    "print()\n",
    "print(\"Training time for SVC: {:.2f} sec.\".format(t1 - t0))\n",
    "\n",
    "# Evaluate on the test set.\n",
    "Yguess = pipeline.predict(Xtest)\n",
    "print(\"Accuracy for SVC: {:.4f}.\".format(accuracy_score(Ytest, Yguess)))\n"
   ],
   "metadata": {
    "collapsed": false,
    "pycharm": {
     "name": "#%%\n"
    }
   }
  },
  {
   "cell_type": "markdown",
   "source": [
    "### Logistic regression implementation"
   ],
   "metadata": {
    "collapsed": false
   }
  },
  {
   "cell_type": "code",
   "execution_count": 30,
   "outputs": [
    {
     "name": "stdout",
     "output_type": "stream",
     "text": [
      "Iteration 1*10^3, average loss: 0.7449\n",
      "Iteration 2*10^3, average loss: 0.6100\n",
      "Iteration 3*10^3, average loss: 0.5638\n",
      "Iteration 4*10^3, average loss: 0.5435\n",
      "Iteration 5*10^3, average loss: 0.5278\n",
      "Iteration 6*10^3, average loss: 0.5200\n",
      "Iteration 7*10^3, average loss: 0.5139\n",
      "Iteration 8*10^3, average loss: 0.5085\n",
      "Iteration 9*10^3, average loss: 0.5025\n",
      "Iteration 1*10^4, average loss: 0.4987\n",
      "Iteration 2*10^4, average loss: 0.4874\n",
      "Iteration 3*10^4, average loss: 0.4814\n",
      "Iteration 4*10^4, average loss: 0.4799\n",
      "Iteration 5*10^4, average loss: 0.4792\n",
      "Iteration 6*10^4, average loss: 0.4781\n",
      "Iteration 7*10^4, average loss: 0.4779\n",
      "Iteration 8*10^4, average loss: 0.4770\n",
      "Iteration 9*10^4, average loss: 0.4766\n",
      "Training time for LR: 4.50 sec.\n",
      "Accuracy for LR: 0.8057.\n"
     ]
    }
   ],
   "source": [
    "import time\n",
    "from sklearn.metrics import accuracy_score\n",
    "from sklearn.preprocessing import Normalizer\n",
    "from sklearn.feature_selection import SelectKBest\n",
    "from sklearn.feature_extraction.text import TfidfVectorizer\n",
    "from sklearn.pipeline import make_pipeline\n",
    "\n",
    "# Set up the preprocessing steps and the classifier.\n",
    "pipeline = make_pipeline(\n",
    "    TfidfVectorizer(),\n",
    "    SelectKBest(k=1000),\n",
    "    Normalizer(),\n",
    "    pegasos.PegasosLR()\n",
    ")\n",
    "\n",
    "# Train the classifier.\n",
    "t0 = time.time()\n",
    "pipeline.fit(Xtrain, Ytrain)\n",
    "t1 = time.time()\n",
    "print(\"Training time for LR: {:.2f} sec.\".format(t1 - t0))\n",
    "\n",
    "# Evaluate on the test set.\n",
    "Yguess = pipeline.predict(Xtest)\n",
    "print(\"Accuracy for LR: {:.4f}.\".format(accuracy_score(Ytest, Yguess)))\n"
   ],
   "metadata": {
    "collapsed": false,
    "pycharm": {
     "name": "#%%\n"
    }
   }
  }
 ],
 "metadata": {
  "kernelspec": {
   "display_name": "Python 3",
   "language": "python",
   "name": "python3"
  },
  "language_info": {
   "codemirror_mode": {
    "name": "ipython",
    "version": 2
   },
   "file_extension": ".py",
   "mimetype": "text/x-python",
   "name": "python",
   "nbconvert_exporter": "python",
   "pygments_lexer": "ipython2",
   "version": "2.7.6"
  }
 },
 "nbformat": 4,
 "nbformat_minor": 0
}