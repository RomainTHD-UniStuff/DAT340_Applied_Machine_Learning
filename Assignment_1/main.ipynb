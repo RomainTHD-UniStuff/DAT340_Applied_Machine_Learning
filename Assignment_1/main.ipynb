{
 "cells": [
  {
   "cell_type": "markdown",
   "metadata": {
    "pycharm": {
     "name": "#%% md\n"
    }
   },
   "source": [
    "DAT340, Assignment 1\n",
    "\n",
    "Romain THEODET"
   ]
  },
  {
   "cell_type": "markdown",
   "metadata": {
    "collapsed": true,
    "pycharm": {
     "name": "#%% md\n"
    }
   },
   "source": [
    "### Task 1"
   ]
  },
  {
   "cell_type": "markdown",
   "metadata": {
    "pycharm": {
     "name": "#%% md\n"
    }
   },
   "source": [
    "Step 1"
   ]
  },
  {
   "cell_type": "code",
   "execution_count": 23,
   "metadata": {
    "pycharm": {
     "name": "#%%\n"
    }
   },
   "outputs": [],
   "source": [
    "import pandas as pd\n",
    "from sklearn.model_selection import train_test_split\n",
    "\n",
    "# Read the CSV file.\n",
    "data = pd.read_csv(\"./task1_CTG.csv\", skiprows=1)\n",
    "\n",
    "# Select the relevant numerical columns.\n",
    "selected_cols = [\"LB\", \"AC\", \"FM\", \"UC\", \"DL\", \"DS\", \"DP\", \"ASTV\", \"MSTV\", \"ALTV\",\n",
    "                 \"MLTV\", \"Width\", \"Min\", \"Max\", \"Nmax\", \"Nzeros\", \"Mode\", \"Mean\",\n",
    "                 \"Median\", \"Variance\", \"Tendency\", \"NSP\"]\n",
    "data = data[selected_cols].dropna()\n",
    "\n",
    "# Shuffle the dataset.\n",
    "data_shuffled = data.sample(frac=1.0, random_state=0)\n",
    "\n",
    "# Split into input part X and output part Y.\n",
    "X = data_shuffled.drop(\"NSP\", axis=1)\n",
    "\n",
    "\n",
    "# Map the diagnosis code to a human-readable label.\n",
    "def to_label(y):\n",
    "    return [None, \"normal\", \"suspect\", \"pathologic\"][(int(y))]\n",
    "\n",
    "\n",
    "Y = data_shuffled[\"NSP\"].apply(to_label)\n",
    "\n",
    "# Partition the data into training and test sets.\n",
    "Xtrain, Xtest, Ytrain, Ytest = train_test_split(X, Y, test_size=0.2, random_state=0)"
   ]
  },
  {
   "cell_type": "code",
   "execution_count": 24,
   "metadata": {
    "pycharm": {
     "name": "#%%\n"
    }
   },
   "outputs": [
    {
     "data": {
      "text/plain": "         LB   AC   FM   UC   DL   DS   DP  ASTV  MSTV  ALTV  ...  Width  \\\n658   130.0  1.0  0.0  3.0  0.0  0.0  0.0  24.0   1.2  12.0  ...   35.0   \n1734  134.0  9.0  1.0  8.0  5.0  0.0  0.0  59.0   1.2   0.0  ...  109.0   \n1226  125.0  1.0  0.0  4.0  0.0  0.0  0.0  43.0   0.7  31.0  ...   21.0   \n1808  143.0  0.0  0.0  1.0  0.0  0.0  0.0  69.0   0.3   6.0  ...   27.0   \n825   152.0  0.0  0.0  4.0  0.0  0.0  0.0  62.0   0.4  59.0  ...   25.0   \n\n        Min    Max  Nmax  Nzeros   Mode   Mean  Median  Variance  Tendency  \n658   120.0  155.0   1.0     0.0  134.0  133.0   135.0       1.0       0.0  \n1734   80.0  189.0   6.0     0.0  150.0  146.0   150.0      33.0       0.0  \n1226  120.0  141.0   0.0     0.0  131.0  130.0   132.0       1.0       0.0  \n1808  132.0  159.0   1.0     0.0  145.0  144.0   146.0       1.0       0.0  \n825   136.0  161.0   0.0     0.0  159.0  156.0   158.0       1.0       1.0  \n\n[5 rows x 21 columns]",
      "text/html": "<div>\n<style scoped>\n    .dataframe tbody tr th:only-of-type {\n        vertical-align: middle;\n    }\n\n    .dataframe tbody tr th {\n        vertical-align: top;\n    }\n\n    .dataframe thead th {\n        text-align: right;\n    }\n</style>\n<table border=\"1\" class=\"dataframe\">\n  <thead>\n    <tr style=\"text-align: right;\">\n      <th></th>\n      <th>LB</th>\n      <th>AC</th>\n      <th>FM</th>\n      <th>UC</th>\n      <th>DL</th>\n      <th>DS</th>\n      <th>DP</th>\n      <th>ASTV</th>\n      <th>MSTV</th>\n      <th>ALTV</th>\n      <th>...</th>\n      <th>Width</th>\n      <th>Min</th>\n      <th>Max</th>\n      <th>Nmax</th>\n      <th>Nzeros</th>\n      <th>Mode</th>\n      <th>Mean</th>\n      <th>Median</th>\n      <th>Variance</th>\n      <th>Tendency</th>\n    </tr>\n  </thead>\n  <tbody>\n    <tr>\n      <th>658</th>\n      <td>130.0</td>\n      <td>1.0</td>\n      <td>0.0</td>\n      <td>3.0</td>\n      <td>0.0</td>\n      <td>0.0</td>\n      <td>0.0</td>\n      <td>24.0</td>\n      <td>1.2</td>\n      <td>12.0</td>\n      <td>...</td>\n      <td>35.0</td>\n      <td>120.0</td>\n      <td>155.0</td>\n      <td>1.0</td>\n      <td>0.0</td>\n      <td>134.0</td>\n      <td>133.0</td>\n      <td>135.0</td>\n      <td>1.0</td>\n      <td>0.0</td>\n    </tr>\n    <tr>\n      <th>1734</th>\n      <td>134.0</td>\n      <td>9.0</td>\n      <td>1.0</td>\n      <td>8.0</td>\n      <td>5.0</td>\n      <td>0.0</td>\n      <td>0.0</td>\n      <td>59.0</td>\n      <td>1.2</td>\n      <td>0.0</td>\n      <td>...</td>\n      <td>109.0</td>\n      <td>80.0</td>\n      <td>189.0</td>\n      <td>6.0</td>\n      <td>0.0</td>\n      <td>150.0</td>\n      <td>146.0</td>\n      <td>150.0</td>\n      <td>33.0</td>\n      <td>0.0</td>\n    </tr>\n    <tr>\n      <th>1226</th>\n      <td>125.0</td>\n      <td>1.0</td>\n      <td>0.0</td>\n      <td>4.0</td>\n      <td>0.0</td>\n      <td>0.0</td>\n      <td>0.0</td>\n      <td>43.0</td>\n      <td>0.7</td>\n      <td>31.0</td>\n      <td>...</td>\n      <td>21.0</td>\n      <td>120.0</td>\n      <td>141.0</td>\n      <td>0.0</td>\n      <td>0.0</td>\n      <td>131.0</td>\n      <td>130.0</td>\n      <td>132.0</td>\n      <td>1.0</td>\n      <td>0.0</td>\n    </tr>\n    <tr>\n      <th>1808</th>\n      <td>143.0</td>\n      <td>0.0</td>\n      <td>0.0</td>\n      <td>1.0</td>\n      <td>0.0</td>\n      <td>0.0</td>\n      <td>0.0</td>\n      <td>69.0</td>\n      <td>0.3</td>\n      <td>6.0</td>\n      <td>...</td>\n      <td>27.0</td>\n      <td>132.0</td>\n      <td>159.0</td>\n      <td>1.0</td>\n      <td>0.0</td>\n      <td>145.0</td>\n      <td>144.0</td>\n      <td>146.0</td>\n      <td>1.0</td>\n      <td>0.0</td>\n    </tr>\n    <tr>\n      <th>825</th>\n      <td>152.0</td>\n      <td>0.0</td>\n      <td>0.0</td>\n      <td>4.0</td>\n      <td>0.0</td>\n      <td>0.0</td>\n      <td>0.0</td>\n      <td>62.0</td>\n      <td>0.4</td>\n      <td>59.0</td>\n      <td>...</td>\n      <td>25.0</td>\n      <td>136.0</td>\n      <td>161.0</td>\n      <td>0.0</td>\n      <td>0.0</td>\n      <td>159.0</td>\n      <td>156.0</td>\n      <td>158.0</td>\n      <td>1.0</td>\n      <td>1.0</td>\n    </tr>\n  </tbody>\n</table>\n<p>5 rows × 21 columns</p>\n</div>"
     },
     "execution_count": 24,
     "metadata": {},
     "output_type": "execute_result"
    }
   ],
   "source": [
    "X.head()"
   ]
  },
  {
   "cell_type": "markdown",
   "metadata": {
    "pycharm": {
     "name": "#%% md\n"
    }
   },
   "source": [
    "Step 2"
   ]
  },
  {
   "cell_type": "code",
   "execution_count": 25,
   "metadata": {
    "pycharm": {
     "name": "#%%\n"
    }
   },
   "outputs": [
    {
     "data": {
      "text/plain": "0.7805882352941176"
     },
     "execution_count": 25,
     "metadata": {},
     "output_type": "execute_result"
    }
   ],
   "source": [
    "from sklearn.dummy import DummyClassifier\n",
    "\n",
    "clf = DummyClassifier(strategy=\"most_frequent\")\n",
    "\n",
    "from sklearn.model_selection import cross_val_score\n",
    "import numpy as np\n",
    "\n",
    "np.mean(cross_val_score(clf, Xtrain, Ytrain))"
   ]
  },
  {
   "cell_type": "markdown",
   "metadata": {},
   "source": [
    "Step 3"
   ]
  },
  {
   "cell_type": "code",
   "execution_count": 26,
   "metadata": {
    "pycharm": {
     "name": "#%%\n"
    }
   },
   "outputs": [
    {
     "data": {
      "text/plain": "0.9241176470588235"
     },
     "execution_count": 26,
     "metadata": {},
     "output_type": "execute_result"
    }
   ],
   "source": [
    "from sklearn.tree import DecisionTreeClassifier\n",
    "\n",
    "np.mean(cross_val_score(DecisionTreeClassifier(), Xtrain, Ytrain))"
   ]
  },
  {
   "cell_type": "code",
   "execution_count": 27,
   "metadata": {
    "pycharm": {
     "name": "#%%\n"
    }
   },
   "outputs": [
    {
     "data": {
      "text/plain": "0.9411764705882353"
     },
     "execution_count": 27,
     "metadata": {},
     "output_type": "execute_result"
    }
   ],
   "source": [
    "from sklearn.ensemble import RandomForestClassifier\n",
    "\n",
    "np.mean(cross_val_score(RandomForestClassifier(), Xtrain, Ytrain))"
   ]
  },
  {
   "cell_type": "code",
   "execution_count": 28,
   "metadata": {
    "pycharm": {
     "name": "#%%\n"
    }
   },
   "outputs": [
    {
     "data": {
      "text/plain": "0.9494117647058824"
     },
     "execution_count": 28,
     "metadata": {},
     "output_type": "execute_result"
    }
   ],
   "source": [
    "from sklearn.ensemble import GradientBoostingClassifier\n",
    "\n",
    "np.mean(cross_val_score(GradientBoostingClassifier(), Xtrain, Ytrain))"
   ]
  },
  {
   "cell_type": "code",
   "execution_count": 29,
   "metadata": {
    "pycharm": {
     "name": "#%%\n"
    }
   },
   "outputs": [
    {
     "data": {
      "text/plain": "0.825294117647059"
     },
     "execution_count": 29,
     "metadata": {},
     "output_type": "execute_result"
    }
   ],
   "source": [
    "from sklearn.linear_model import Perceptron\n",
    "\n",
    "np.mean(cross_val_score(Perceptron(), Xtrain, Ytrain))"
   ]
  },
  {
   "cell_type": "code",
   "execution_count": 30,
   "metadata": {
    "pycharm": {
     "name": "#%%\n"
    }
   },
   "outputs": [],
   "source": [
    "from sklearn.linear_model import LogisticRegression\n",
    "\n",
    "# np.mean(cross_val_score(LogisticRegression(max_iter=100), Xtrain, Ytrain))\n",
    "\n",
    "# There is an ugly warning about the number of iterations, which reaches its limits.\n",
    "# Otherwise, the result score is about 87.4%."
   ]
  },
  {
   "cell_type": "code",
   "execution_count": 31,
   "metadata": {
    "pycharm": {
     "name": "#%%\n"
    }
   },
   "outputs": [],
   "source": [
    "from sklearn.svm import LinearSVC\n",
    "\n",
    "# np.mean(cross_val_score(LinearSVC(max_iter=1000), Xtrain, Ytrain))\n",
    "\n",
    "# Again, there is a long warning about the number of iterations.\n",
    "# The score is 82.3%."
   ]
  },
  {
   "cell_type": "code",
   "execution_count": 32,
   "metadata": {
    "pycharm": {
     "name": "#%%\n"
    }
   },
   "outputs": [],
   "source": [
    "from sklearn.neural_network import MLPClassifier\n",
    "\n",
    "# np.mean(cross_val_score(MLPClassifier(), Xtrain, Ytrain))\n",
    "# It works, but with a warning about the number of iterations, since the model hasn't converged yet.\n",
    "# The score is around 88.3%."
   ]
  },
  {
   "cell_type": "markdown",
   "metadata": {
    "pycharm": {
     "name": "#%% md\n"
    }
   },
   "source": [
    "Without any fine-tuning, we can see that the `GradientBoostingClassifier` has the best cross-validation results,\n",
    "with around 94% validation."
   ]
  },
  {
   "cell_type": "markdown",
   "metadata": {
    "pycharm": {
     "name": "#%% md\n"
    }
   },
   "source": [
    "Step 4"
   ]
  },
  {
   "cell_type": "code",
   "execution_count": 33,
   "metadata": {
    "pycharm": {
     "name": "#%%\n"
    }
   },
   "outputs": [
    {
     "name": "stdout",
     "output_type": "stream",
     "text": [
      "0.9295774647887324\n"
     ]
    }
   ],
   "source": [
    "from sklearn.metrics import accuracy_score\n",
    "\n",
    "clf = GradientBoostingClassifier()\n",
    "clf.fit(Xtrain, Ytrain)\n",
    "Yguess = clf.predict(Xtest)\n",
    "print(accuracy_score(Ytest, Yguess))"
   ]
  },
  {
   "cell_type": "markdown",
   "metadata": {},
   "source": [
    "I chose the `GradientBoostingClassifier`, which had the best cross-validation results.\n",
    "It gave me an accuracy score of 92.9%.\n",
    "\n",
    "This classifier is an algorithm that combine several weaker learning models,\n",
    "like decision trees, to create a stronger predictive model."
   ]
  },
  {
   "cell_type": "markdown",
   "metadata": {
    "pycharm": {
     "name": "#%% md\n"
    }
   },
   "source": [
    "### Task 2"
   ]
  },
  {
   "cell_type": "code",
   "execution_count": 34,
   "metadata": {
    "pycharm": {
     "name": "#%%\n"
    }
   },
   "outputs": [
    {
     "name": "stdout",
     "output_type": "stream",
     "text": [
      "depth:1, score:0.8215962441314554\n",
      "depth:2, score:0.8685446009389671\n",
      "depth:3, score:0.8826291079812206\n",
      "depth:4, score:0.8896713615023474\n",
      "depth:5, score:0.8896713615023474\n",
      "depth:6, score:0.8849765258215962\n",
      "best depth:5, score:0.8896713615023474\n"
     ]
    }
   ],
   "source": [
    "%run decisionTree.ipynb\n",
    "\n",
    "depth = 1\n",
    "scores = [float(\"nan\")]\n",
    "while True:\n",
    "    clf = TreeClassifier(max_depth=depth)\n",
    "    clf.fit(Xtrain, Ytrain)\n",
    "    Yguess = clf.predict(Xtest)\n",
    "\n",
    "    scores.append(accuracy_score(Ytest, Yguess))\n",
    "    print(f\"depth:{depth}, score:{scores[depth]}\")\n",
    "\n",
    "    if scores[depth - 1] > scores[depth]:\n",
    "        break\n",
    "    depth += 1\n",
    "\n",
    "bestDepth = 0\n",
    "for depth, score in enumerate(scores):\n",
    "    bestDepth = bestDepth if score < scores[bestDepth] else depth\n",
    "print(f\"best depth:{bestDepth}, score:{scores[bestDepth]}\")"
   ]
  },
  {
   "cell_type": "markdown",
   "metadata": {
    "pycharm": {
     "name": "#%% md\n"
    }
   },
   "source": [
    "After a bruteforce loop, I chose a max depth of 5, which gives me an accuracy of 88.9%."
   ]
  },
  {
   "cell_type": "code",
   "execution_count": 35,
   "metadata": {
    "pycharm": {
     "name": "#%%\n"
    }
   },
   "outputs": [
    {
     "data": {
      "image/svg+xml": "<?xml version=\"1.0\" encoding=\"UTF-8\" standalone=\"no\"?>\n<!DOCTYPE svg PUBLIC \"-//W3C//DTD SVG 1.1//EN\"\n \"http://www.w3.org/Graphics/SVG/1.1/DTD/svg11.dtd\">\n<!-- Generated by graphviz version 2.50.0 (20211204.2007)\n -->\n<!-- Pages: 1 -->\n<svg width=\"1449pt\" height=\"479pt\"\n viewBox=\"0.00 0.00 1448.69 479.00\" xmlns=\"http://www.w3.org/2000/svg\" xmlns:xlink=\"http://www.w3.org/1999/xlink\">\n<g id=\"graph0\" class=\"graph\" transform=\"scale(1 1) rotate(0) translate(4 475)\">\n<polygon fill=\"white\" stroke=\"transparent\" points=\"-4,4 -4,-475 1444.69,-475 1444.69,4 -4,4\"/>\n<!-- 0 -->\n<g id=\"node1\" class=\"node\">\n<title>0</title>\n<ellipse fill=\"lightgrey\" stroke=\"black\" cx=\"38.35\" cy=\"-18\" rx=\"38.19\" ry=\"18\"/>\n<text text-anchor=\"middle\" x=\"38.35\" y=\"-14.3\" font-family=\"Times New Roman,serif\" font-size=\"14.00\">suspect</text>\n</g>\n<!-- 1 -->\n<g id=\"node2\" class=\"node\">\n<title>1</title>\n<ellipse fill=\"lightgrey\" stroke=\"black\" cx=\"130.35\" cy=\"-18\" rx=\"36\" ry=\"18\"/>\n<text text-anchor=\"middle\" x=\"130.35\" y=\"-14.3\" font-family=\"Times New Roman,serif\" font-size=\"14.00\">normal</text>\n</g>\n<!-- 2 -->\n<g id=\"node3\" class=\"node\">\n<title>2</title>\n<path fill=\"yellow\" stroke=\"black\" d=\"M155.35,-123C155.35,-123 93.35,-123 93.35,-123 87.35,-123 81.35,-117 81.35,-111 81.35,-111 81.35,-99 81.35,-99 81.35,-93 87.35,-87 93.35,-87 93.35,-87 155.35,-87 155.35,-87 161.35,-87 167.35,-93 167.35,-99 167.35,-99 167.35,-111 167.35,-111 167.35,-117 161.35,-123 155.35,-123\"/>\n<text text-anchor=\"middle\" x=\"124.35\" y=\"-101.3\" font-family=\"Times New Roman,serif\" font-size=\"14.00\">Width &gt; 21?</text>\n</g>\n<!-- 2&#45;&gt;0 -->\n<g id=\"edge1\" class=\"edge\">\n<title>2&#45;&gt;0</title>\n<path fill=\"none\" stroke=\"black\" d=\"M106.94,-86.8C93.86,-73.86 75.8,-56.02 61.49,-41.88\"/>\n<polygon fill=\"black\" stroke=\"black\" points=\"63.56,-39 53.99,-34.46 58.64,-43.98 63.56,-39\"/>\n<text text-anchor=\"middle\" x=\"102.35\" y=\"-57.8\" font-family=\"Times New Roman,serif\" font-size=\"14.00\">False</text>\n</g>\n<!-- 2&#45;&gt;1 -->\n<g id=\"edge2\" class=\"edge\">\n<title>2&#45;&gt;1</title>\n<path fill=\"none\" stroke=\"black\" d=\"M125.56,-86.8C126.38,-75.16 127.48,-59.55 128.42,-46.24\"/>\n<polygon fill=\"black\" stroke=\"black\" points=\"131.92,-46.4 129.13,-36.18 124.94,-45.9 131.92,-46.4\"/>\n<text text-anchor=\"middle\" x=\"141.85\" y=\"-57.8\" font-family=\"Times New Roman,serif\" font-size=\"14.00\">True</text>\n</g>\n<!-- 3 -->\n<g id=\"node4\" class=\"node\">\n<title>3</title>\n<ellipse fill=\"lightgrey\" stroke=\"black\" cx=\"230.35\" cy=\"-18\" rx=\"36\" ry=\"18\"/>\n<text text-anchor=\"middle\" x=\"230.35\" y=\"-14.3\" font-family=\"Times New Roman,serif\" font-size=\"14.00\">normal</text>\n</g>\n<!-- 4 -->\n<g id=\"node5\" class=\"node\">\n<title>4</title>\n<ellipse fill=\"lightgrey\" stroke=\"black\" cx=\"322.35\" cy=\"-18\" rx=\"38.19\" ry=\"18\"/>\n<text text-anchor=\"middle\" x=\"322.35\" y=\"-14.3\" font-family=\"Times New Roman,serif\" font-size=\"14.00\">suspect</text>\n</g>\n<!-- 5 -->\n<g id=\"node6\" class=\"node\">\n<title>5</title>\n<path fill=\"yellow\" stroke=\"black\" d=\"M272.85,-123C272.85,-123 197.85,-123 197.85,-123 191.85,-123 185.85,-117 185.85,-111 185.85,-111 185.85,-99 185.85,-99 185.85,-93 191.85,-87 197.85,-87 197.85,-87 272.85,-87 272.85,-87 278.85,-87 284.85,-93 284.85,-99 284.85,-99 284.85,-111 284.85,-111 284.85,-117 278.85,-123 272.85,-123\"/>\n<text text-anchor=\"middle\" x=\"235.35\" y=\"-101.3\" font-family=\"Times New Roman,serif\" font-size=\"14.00\">ASTV &gt; 59.5?</text>\n</g>\n<!-- 5&#45;&gt;3 -->\n<g id=\"edge3\" class=\"edge\">\n<title>5&#45;&gt;3</title>\n<path fill=\"none\" stroke=\"black\" d=\"M234.33,-86.8C233.65,-75.16 232.73,-59.55 231.95,-46.24\"/>\n<polygon fill=\"black\" stroke=\"black\" points=\"235.44,-45.95 231.36,-36.18 228.45,-46.36 235.44,-45.95\"/>\n<text text-anchor=\"middle\" x=\"248.35\" y=\"-57.8\" font-family=\"Times New Roman,serif\" font-size=\"14.00\">False</text>\n</g>\n<!-- 5&#45;&gt;4 -->\n<g id=\"edge4\" class=\"edge\">\n<title>5&#45;&gt;4</title>\n<path fill=\"none\" stroke=\"black\" d=\"M252.95,-86.8C266.31,-73.75 284.8,-55.68 299.33,-41.49\"/>\n<polygon fill=\"black\" stroke=\"black\" points=\"301.82,-43.95 306.52,-34.46 296.92,-38.95 301.82,-43.95\"/>\n<text text-anchor=\"middle\" x=\"297.85\" y=\"-57.8\" font-family=\"Times New Roman,serif\" font-size=\"14.00\">True</text>\n</g>\n<!-- 6 -->\n<g id=\"node7\" class=\"node\">\n<title>6</title>\n<path fill=\"yellow\" stroke=\"black\" d=\"M236.35,-210C236.35,-210 178.35,-210 178.35,-210 172.35,-210 166.35,-204 166.35,-198 166.35,-198 166.35,-186 166.35,-186 166.35,-180 172.35,-174 178.35,-174 178.35,-174 236.35,-174 236.35,-174 242.35,-174 248.35,-180 248.35,-186 248.35,-186 248.35,-198 248.35,-198 248.35,-204 242.35,-210 236.35,-210\"/>\n<text text-anchor=\"middle\" x=\"207.35\" y=\"-188.3\" font-family=\"Times New Roman,serif\" font-size=\"14.00\">ALTV &gt; 7?</text>\n</g>\n<!-- 6&#45;&gt;2 -->\n<g id=\"edge5\" class=\"edge\">\n<title>6&#45;&gt;2</title>\n<path fill=\"none\" stroke=\"black\" d=\"M190.55,-173.8C178.4,-161.36 161.81,-144.36 148.27,-130.5\"/>\n<polygon fill=\"black\" stroke=\"black\" points=\"150.61,-127.88 141.12,-123.18 145.6,-132.78 150.61,-127.88\"/>\n<text text-anchor=\"middle\" x=\"186.35\" y=\"-144.8\" font-family=\"Times New Roman,serif\" font-size=\"14.00\">False</text>\n</g>\n<!-- 6&#45;&gt;5 -->\n<g id=\"edge6\" class=\"edge\">\n<title>6&#45;&gt;5</title>\n<path fill=\"none\" stroke=\"black\" d=\"M213.01,-173.8C216.88,-162.05 222.09,-146.24 226.5,-132.84\"/>\n<polygon fill=\"black\" stroke=\"black\" points=\"229.88,-133.77 229.69,-123.18 223.24,-131.58 229.88,-133.77\"/>\n<text text-anchor=\"middle\" x=\"236.85\" y=\"-144.8\" font-family=\"Times New Roman,serif\" font-size=\"14.00\">True</text>\n</g>\n<!-- 7 -->\n<g id=\"node8\" class=\"node\">\n<title>7</title>\n<ellipse fill=\"lightgrey\" stroke=\"black\" cx=\"315.35\" cy=\"-192\" rx=\"48.99\" ry=\"18\"/>\n<text text-anchor=\"middle\" x=\"315.35\" y=\"-188.3\" font-family=\"Times New Roman,serif\" font-size=\"14.00\">pathologic</text>\n</g>\n<!-- 8 -->\n<g id=\"node9\" class=\"node\">\n<title>8</title>\n<path fill=\"yellow\" stroke=\"black\" d=\"M352.85,-297C352.85,-297 277.85,-297 277.85,-297 271.85,-297 265.85,-291 265.85,-285 265.85,-285 265.85,-273 265.85,-273 265.85,-267 271.85,-261 277.85,-261 277.85,-261 352.85,-261 352.85,-261 358.85,-261 364.85,-267 364.85,-273 364.85,-273 364.85,-285 364.85,-285 364.85,-291 358.85,-297 352.85,-297\"/>\n<text text-anchor=\"middle\" x=\"315.35\" y=\"-275.3\" font-family=\"Times New Roman,serif\" font-size=\"14.00\">ASTV &gt; 79.5?</text>\n</g>\n<!-- 8&#45;&gt;6 -->\n<g id=\"edge7\" class=\"edge\">\n<title>8&#45;&gt;6</title>\n<path fill=\"none\" stroke=\"black\" d=\"M293.49,-260.8C277.39,-248.13 255.29,-230.73 237.51,-216.74\"/>\n<polygon fill=\"black\" stroke=\"black\" points=\"239.19,-213.61 229.17,-210.18 234.86,-219.11 239.19,-213.61\"/>\n<text text-anchor=\"middle\" x=\"283.35\" y=\"-231.8\" font-family=\"Times New Roman,serif\" font-size=\"14.00\">False</text>\n</g>\n<!-- 8&#45;&gt;7 -->\n<g id=\"edge8\" class=\"edge\">\n<title>8&#45;&gt;7</title>\n<path fill=\"none\" stroke=\"black\" d=\"M315.35,-260.8C315.35,-249.16 315.35,-233.55 315.35,-220.24\"/>\n<polygon fill=\"black\" stroke=\"black\" points=\"318.85,-220.18 315.35,-210.18 311.85,-220.18 318.85,-220.18\"/>\n<text text-anchor=\"middle\" x=\"328.85\" y=\"-231.8\" font-family=\"Times New Roman,serif\" font-size=\"14.00\">True</text>\n</g>\n<!-- 9 -->\n<g id=\"node10\" class=\"node\">\n<title>9</title>\n<ellipse fill=\"lightgrey\" stroke=\"black\" cx=\"417.35\" cy=\"-192\" rx=\"36\" ry=\"18\"/>\n<text text-anchor=\"middle\" x=\"417.35\" y=\"-188.3\" font-family=\"Times New Roman,serif\" font-size=\"14.00\">normal</text>\n</g>\n<!-- 10 -->\n<g id=\"node11\" class=\"node\">\n<title>10</title>\n<ellipse fill=\"lightgrey\" stroke=\"black\" cx=\"519.35\" cy=\"-192\" rx=\"48.99\" ry=\"18\"/>\n<text text-anchor=\"middle\" x=\"519.35\" y=\"-188.3\" font-family=\"Times New Roman,serif\" font-size=\"14.00\">pathologic</text>\n</g>\n<!-- 11 -->\n<g id=\"node12\" class=\"node\">\n<title>11</title>\n<path fill=\"yellow\" stroke=\"black\" d=\"M554.35,-297C554.35,-297 462.35,-297 462.35,-297 456.35,-297 450.35,-291 450.35,-285 450.35,-285 450.35,-273 450.35,-273 450.35,-267 456.35,-261 462.35,-261 462.35,-261 554.35,-261 554.35,-261 560.35,-261 566.35,-267 566.35,-273 566.35,-273 566.35,-285 566.35,-285 566.35,-291 560.35,-297 554.35,-297\"/>\n<text text-anchor=\"middle\" x=\"508.35\" y=\"-275.3\" font-family=\"Times New Roman,serif\" font-size=\"14.00\">Tendency &gt; &#45;0.5?</text>\n</g>\n<!-- 11&#45;&gt;9 -->\n<g id=\"edge9\" class=\"edge\">\n<title>11&#45;&gt;9</title>\n<path fill=\"none\" stroke=\"black\" d=\"M489.93,-260.8C475.87,-247.66 456.38,-229.46 441.13,-215.22\"/>\n<polygon fill=\"black\" stroke=\"black\" points=\"443.3,-212.45 433.6,-208.18 438.52,-217.56 443.3,-212.45\"/>\n<text text-anchor=\"middle\" x=\"483.35\" y=\"-231.8\" font-family=\"Times New Roman,serif\" font-size=\"14.00\">False</text>\n</g>\n<!-- 11&#45;&gt;10 -->\n<g id=\"edge10\" class=\"edge\">\n<title>11&#45;&gt;10</title>\n<path fill=\"none\" stroke=\"black\" d=\"M510.57,-260.8C512.08,-249.16 514.1,-233.55 515.82,-220.24\"/>\n<polygon fill=\"black\" stroke=\"black\" points=\"519.31,-220.54 517.12,-210.18 512.37,-219.64 519.31,-220.54\"/>\n<text text-anchor=\"middle\" x=\"528.85\" y=\"-231.8\" font-family=\"Times New Roman,serif\" font-size=\"14.00\">True</text>\n</g>\n<!-- 12 -->\n<g id=\"node13\" class=\"node\">\n<title>12</title>\n<path fill=\"yellow\" stroke=\"black\" d=\"M545.85,-384C545.85,-384 470.85,-384 470.85,-384 464.85,-384 458.85,-378 458.85,-372 458.85,-372 458.85,-360 458.85,-360 458.85,-354 464.85,-348 470.85,-348 470.85,-348 545.85,-348 545.85,-348 551.85,-348 557.85,-354 557.85,-360 557.85,-360 557.85,-372 557.85,-372 557.85,-378 551.85,-384 545.85,-384\"/>\n<text text-anchor=\"middle\" x=\"508.35\" y=\"-362.3\" font-family=\"Times New Roman,serif\" font-size=\"14.00\">ALTV &gt; 68.5?</text>\n</g>\n<!-- 12&#45;&gt;8 -->\n<g id=\"edge11\" class=\"edge\">\n<title>12&#45;&gt;8</title>\n<path fill=\"none\" stroke=\"black\" d=\"M469.29,-347.8C438.71,-334.33 396.04,-315.54 363.37,-301.15\"/>\n<polygon fill=\"black\" stroke=\"black\" points=\"364.58,-297.86 354.02,-297.03 361.76,-304.26 364.58,-297.86\"/>\n<text text-anchor=\"middle\" x=\"439.35\" y=\"-318.8\" font-family=\"Times New Roman,serif\" font-size=\"14.00\">False</text>\n</g>\n<!-- 12&#45;&gt;11 -->\n<g id=\"edge12\" class=\"edge\">\n<title>12&#45;&gt;11</title>\n<path fill=\"none\" stroke=\"black\" d=\"M508.35,-347.8C508.35,-336.16 508.35,-320.55 508.35,-307.24\"/>\n<polygon fill=\"black\" stroke=\"black\" points=\"511.85,-307.18 508.35,-297.18 504.85,-307.18 511.85,-307.18\"/>\n<text text-anchor=\"middle\" x=\"521.85\" y=\"-318.8\" font-family=\"Times New Roman,serif\" font-size=\"14.00\">True</text>\n</g>\n<!-- 13 -->\n<g id=\"node14\" class=\"node\">\n<title>13</title>\n<ellipse fill=\"lightgrey\" stroke=\"black\" cx=\"529.35\" cy=\"-105\" rx=\"38.19\" ry=\"18\"/>\n<text text-anchor=\"middle\" x=\"529.35\" y=\"-101.3\" font-family=\"Times New Roman,serif\" font-size=\"14.00\">suspect</text>\n</g>\n<!-- 14 -->\n<g id=\"node15\" class=\"node\">\n<title>14</title>\n<ellipse fill=\"lightgrey\" stroke=\"black\" cx=\"634.35\" cy=\"-105\" rx=\"48.99\" ry=\"18\"/>\n<text text-anchor=\"middle\" x=\"634.35\" y=\"-101.3\" font-family=\"Times New Roman,serif\" font-size=\"14.00\">pathologic</text>\n</g>\n<!-- 15 -->\n<g id=\"node16\" class=\"node\">\n<title>15</title>\n<path fill=\"yellow\" stroke=\"black\" d=\"M670.85,-210C670.85,-210 597.85,-210 597.85,-210 591.85,-210 585.85,-204 585.85,-198 585.85,-198 585.85,-186 585.85,-186 585.85,-180 591.85,-174 597.85,-174 597.85,-174 670.85,-174 670.85,-174 676.85,-174 682.85,-180 682.85,-186 682.85,-186 682.85,-198 682.85,-198 682.85,-204 676.85,-210 670.85,-210\"/>\n<text text-anchor=\"middle\" x=\"634.35\" y=\"-188.3\" font-family=\"Times New Roman,serif\" font-size=\"14.00\">Width &gt; 72.5?</text>\n</g>\n<!-- 15&#45;&gt;13 -->\n<g id=\"edge13\" class=\"edge\">\n<title>15&#45;&gt;13</title>\n<path fill=\"none\" stroke=\"black\" d=\"M613.1,-173.8C596.62,-160.46 573.68,-141.89 555.98,-127.56\"/>\n<polygon fill=\"black\" stroke=\"black\" points=\"557.73,-124.47 547.76,-120.9 553.33,-129.92 557.73,-124.47\"/>\n<text text-anchor=\"middle\" x=\"603.35\" y=\"-144.8\" font-family=\"Times New Roman,serif\" font-size=\"14.00\">False</text>\n</g>\n<!-- 15&#45;&gt;14 -->\n<g id=\"edge14\" class=\"edge\">\n<title>15&#45;&gt;14</title>\n<path fill=\"none\" stroke=\"black\" d=\"M634.35,-173.8C634.35,-162.16 634.35,-146.55 634.35,-133.24\"/>\n<polygon fill=\"black\" stroke=\"black\" points=\"637.85,-133.18 634.35,-123.18 630.85,-133.18 637.85,-133.18\"/>\n<text text-anchor=\"middle\" x=\"647.85\" y=\"-144.8\" font-family=\"Times New Roman,serif\" font-size=\"14.00\">True</text>\n</g>\n<!-- 16 -->\n<g id=\"node17\" class=\"node\">\n<title>16</title>\n<ellipse fill=\"lightgrey\" stroke=\"black\" cx=\"749.35\" cy=\"-105\" rx=\"48.99\" ry=\"18\"/>\n<text text-anchor=\"middle\" x=\"749.35\" y=\"-101.3\" font-family=\"Times New Roman,serif\" font-size=\"14.00\">pathologic</text>\n</g>\n<!-- 17 -->\n<g id=\"node18\" class=\"node\">\n<title>17</title>\n<ellipse fill=\"lightgrey\" stroke=\"black\" cx=\"851.35\" cy=\"-105\" rx=\"36\" ry=\"18\"/>\n<text text-anchor=\"middle\" x=\"851.35\" y=\"-101.3\" font-family=\"Times New Roman,serif\" font-size=\"14.00\">normal</text>\n</g>\n<!-- 18 -->\n<g id=\"node19\" class=\"node\">\n<title>18</title>\n<path fill=\"yellow\" stroke=\"black\" d=\"M799.85,-210C799.85,-210 712.85,-210 712.85,-210 706.85,-210 700.85,-204 700.85,-198 700.85,-198 700.85,-186 700.85,-186 700.85,-180 706.85,-174 712.85,-174 712.85,-174 799.85,-174 799.85,-174 805.85,-174 811.85,-180 811.85,-186 811.85,-186 811.85,-198 811.85,-198 811.85,-204 805.85,-210 799.85,-210\"/>\n<text text-anchor=\"middle\" x=\"756.35\" y=\"-188.3\" font-family=\"Times New Roman,serif\" font-size=\"14.00\">Variance &gt; 23.5?</text>\n</g>\n<!-- 18&#45;&gt;16 -->\n<g id=\"edge15\" class=\"edge\">\n<title>18&#45;&gt;16</title>\n<path fill=\"none\" stroke=\"black\" d=\"M754.93,-173.8C753.97,-162.16 752.69,-146.55 751.59,-133.24\"/>\n<polygon fill=\"black\" stroke=\"black\" points=\"755.07,-132.85 750.76,-123.18 748.09,-133.43 755.07,-132.85\"/>\n<text text-anchor=\"middle\" x=\"768.35\" y=\"-144.8\" font-family=\"Times New Roman,serif\" font-size=\"14.00\">False</text>\n</g>\n<!-- 18&#45;&gt;17 -->\n<g id=\"edge16\" class=\"edge\">\n<title>18&#45;&gt;17</title>\n<path fill=\"none\" stroke=\"black\" d=\"M775.57,-173.8C790.25,-160.66 810.6,-142.46 826.52,-128.22\"/>\n<polygon fill=\"black\" stroke=\"black\" points=\"829.26,-130.46 834.38,-121.18 824.59,-125.24 829.26,-130.46\"/>\n<text text-anchor=\"middle\" x=\"823.85\" y=\"-144.8\" font-family=\"Times New Roman,serif\" font-size=\"14.00\">True</text>\n</g>\n<!-- 19 -->\n<g id=\"node20\" class=\"node\">\n<title>19</title>\n<path fill=\"yellow\" stroke=\"black\" d=\"M701.35,-297C701.35,-297 631.35,-297 631.35,-297 625.35,-297 619.35,-291 619.35,-285 619.35,-285 619.35,-273 619.35,-273 619.35,-267 625.35,-261 631.35,-261 631.35,-261 701.35,-261 701.35,-261 707.35,-261 713.35,-267 713.35,-273 713.35,-273 713.35,-285 713.35,-285 713.35,-291 707.35,-297 701.35,-297\"/>\n<text text-anchor=\"middle\" x=\"666.35\" y=\"-275.3\" font-family=\"Times New Roman,serif\" font-size=\"14.00\">Max &gt; 220.5?</text>\n</g>\n<!-- 19&#45;&gt;15 -->\n<g id=\"edge17\" class=\"edge\">\n<title>19&#45;&gt;15</title>\n<path fill=\"none\" stroke=\"black\" d=\"M659.87,-260.8C655.45,-249.05 649.5,-233.24 644.45,-219.84\"/>\n<polygon fill=\"black\" stroke=\"black\" points=\"647.61,-218.3 640.81,-210.18 641.06,-220.77 647.61,-218.3\"/>\n<text text-anchor=\"middle\" x=\"667.35\" y=\"-231.8\" font-family=\"Times New Roman,serif\" font-size=\"14.00\">False</text>\n</g>\n<!-- 19&#45;&gt;18 -->\n<g id=\"edge18\" class=\"edge\">\n<title>19&#45;&gt;18</title>\n<path fill=\"none\" stroke=\"black\" d=\"M684.56,-260.8C697.86,-248.24 716.06,-231.05 730.81,-217.12\"/>\n<polygon fill=\"black\" stroke=\"black\" points=\"733.29,-219.59 738.16,-210.18 728.49,-214.5 733.29,-219.59\"/>\n<text text-anchor=\"middle\" x=\"730.85\" y=\"-231.8\" font-family=\"Times New Roman,serif\" font-size=\"14.00\">True</text>\n</g>\n<!-- 20 -->\n<g id=\"node21\" class=\"node\">\n<title>20</title>\n<ellipse fill=\"lightgrey\" stroke=\"black\" cx=\"856.35\" cy=\"-18\" rx=\"48.99\" ry=\"18\"/>\n<text text-anchor=\"middle\" x=\"856.35\" y=\"-14.3\" font-family=\"Times New Roman,serif\" font-size=\"14.00\">pathologic</text>\n</g>\n<!-- 21 -->\n<g id=\"node22\" class=\"node\">\n<title>21</title>\n<ellipse fill=\"lightgrey\" stroke=\"black\" cx=\"961.35\" cy=\"-18\" rx=\"38.19\" ry=\"18\"/>\n<text text-anchor=\"middle\" x=\"961.35\" y=\"-14.3\" font-family=\"Times New Roman,serif\" font-size=\"14.00\">suspect</text>\n</g>\n<!-- 22 -->\n<g id=\"node23\" class=\"node\">\n<title>22</title>\n<path fill=\"yellow\" stroke=\"black\" d=\"M993.85,-123C993.85,-123 916.85,-123 916.85,-123 910.85,-123 904.85,-117 904.85,-111 904.85,-111 904.85,-99 904.85,-99 904.85,-93 910.85,-87 916.85,-87 916.85,-87 993.85,-87 993.85,-87 999.85,-87 1005.85,-93 1005.85,-99 1005.85,-99 1005.85,-111 1005.85,-111 1005.85,-117 999.85,-123 993.85,-123\"/>\n<text text-anchor=\"middle\" x=\"955.35\" y=\"-101.3\" font-family=\"Times New Roman,serif\" font-size=\"14.00\">MLTV &gt; 3.95?</text>\n</g>\n<!-- 22&#45;&gt;20 -->\n<g id=\"edge19\" class=\"edge\">\n<title>22&#45;&gt;20</title>\n<path fill=\"none\" stroke=\"black\" d=\"M935.31,-86.8C920.07,-73.71 898.96,-55.58 882.4,-41.37\"/>\n<polygon fill=\"black\" stroke=\"black\" points=\"884.55,-38.6 874.68,-34.74 879.99,-43.91 884.55,-38.6\"/>\n<text text-anchor=\"middle\" x=\"927.35\" y=\"-57.8\" font-family=\"Times New Roman,serif\" font-size=\"14.00\">False</text>\n</g>\n<!-- 22&#45;&gt;21 -->\n<g id=\"edge20\" class=\"edge\">\n<title>22&#45;&gt;21</title>\n<path fill=\"none\" stroke=\"black\" d=\"M956.56,-86.8C957.38,-75.16 958.48,-59.55 959.42,-46.24\"/>\n<polygon fill=\"black\" stroke=\"black\" points=\"962.92,-46.4 960.13,-36.18 955.94,-45.9 962.92,-46.4\"/>\n<text text-anchor=\"middle\" x=\"972.85\" y=\"-57.8\" font-family=\"Times New Roman,serif\" font-size=\"14.00\">True</text>\n</g>\n<!-- 23 -->\n<g id=\"node24\" class=\"node\">\n<title>23</title>\n<ellipse fill=\"lightgrey\" stroke=\"black\" cx=\"1066.35\" cy=\"-18\" rx=\"36\" ry=\"18\"/>\n<text text-anchor=\"middle\" x=\"1066.35\" y=\"-14.3\" font-family=\"Times New Roman,serif\" font-size=\"14.00\">normal</text>\n</g>\n<!-- 24 -->\n<g id=\"node25\" class=\"node\">\n<title>24</title>\n<ellipse fill=\"lightgrey\" stroke=\"black\" cx=\"1168.35\" cy=\"-18\" rx=\"48.99\" ry=\"18\"/>\n<text text-anchor=\"middle\" x=\"1168.35\" y=\"-14.3\" font-family=\"Times New Roman,serif\" font-size=\"14.00\">pathologic</text>\n</g>\n<!-- 25 -->\n<g id=\"node26\" class=\"node\">\n<title>25</title>\n<path fill=\"yellow\" stroke=\"black\" d=\"M1110.85,-123C1110.85,-123 1035.85,-123 1035.85,-123 1029.85,-123 1023.85,-117 1023.85,-111 1023.85,-111 1023.85,-99 1023.85,-99 1023.85,-93 1029.85,-87 1035.85,-87 1035.85,-87 1110.85,-87 1110.85,-87 1116.85,-87 1122.85,-93 1122.85,-99 1122.85,-99 1122.85,-111 1122.85,-111 1122.85,-117 1116.85,-123 1110.85,-123\"/>\n<text text-anchor=\"middle\" x=\"1073.35\" y=\"-101.3\" font-family=\"Times New Roman,serif\" font-size=\"14.00\">ASTV &gt; 79.5?</text>\n</g>\n<!-- 25&#45;&gt;23 -->\n<g id=\"edge21\" class=\"edge\">\n<title>25&#45;&gt;23</title>\n<path fill=\"none\" stroke=\"black\" d=\"M1071.93,-86.8C1070.97,-75.16 1069.69,-59.55 1068.59,-46.24\"/>\n<polygon fill=\"black\" stroke=\"black\" points=\"1072.07,-45.85 1067.76,-36.18 1065.09,-46.43 1072.07,-45.85\"/>\n<text text-anchor=\"middle\" x=\"1085.35\" y=\"-57.8\" font-family=\"Times New Roman,serif\" font-size=\"14.00\">False</text>\n</g>\n<!-- 25&#45;&gt;24 -->\n<g id=\"edge22\" class=\"edge\">\n<title>25&#45;&gt;24</title>\n<path fill=\"none\" stroke=\"black\" d=\"M1092.57,-86.8C1106.98,-73.91 1126.84,-56.14 1142.61,-42.03\"/>\n<polygon fill=\"black\" stroke=\"black\" points=\"1145.32,-44.3 1150.44,-35.03 1140.65,-39.08 1145.32,-44.3\"/>\n<text text-anchor=\"middle\" x=\"1140.85\" y=\"-57.8\" font-family=\"Times New Roman,serif\" font-size=\"14.00\">True</text>\n</g>\n<!-- 26 -->\n<g id=\"node27\" class=\"node\">\n<title>26</title>\n<path fill=\"yellow\" stroke=\"black\" d=\"M1042.35,-210C1042.35,-210 986.35,-210 986.35,-210 980.35,-210 974.35,-204 974.35,-198 974.35,-198 974.35,-186 974.35,-186 974.35,-180 980.35,-174 986.35,-174 986.35,-174 1042.35,-174 1042.35,-174 1048.35,-174 1054.35,-180 1054.35,-186 1054.35,-186 1054.35,-198 1054.35,-198 1054.35,-204 1048.35,-210 1042.35,-210\"/>\n<text text-anchor=\"middle\" x=\"1014.35\" y=\"-188.3\" font-family=\"Times New Roman,serif\" font-size=\"14.00\">Width &gt; 9?</text>\n</g>\n<!-- 26&#45;&gt;22 -->\n<g id=\"edge23\" class=\"edge\">\n<title>26&#45;&gt;22</title>\n<path fill=\"none\" stroke=\"black\" d=\"M1002.06,-173.97C997.99,-168.27 993.45,-161.88 989.35,-156 983.85,-148.12 977.94,-139.48 972.61,-131.63\"/>\n<polygon fill=\"black\" stroke=\"black\" points=\"975.4,-129.51 966.89,-123.19 969.6,-133.43 975.4,-129.51\"/>\n<text text-anchor=\"middle\" x=\"1004.35\" y=\"-144.8\" font-family=\"Times New Roman,serif\" font-size=\"14.00\">False</text>\n</g>\n<!-- 26&#45;&gt;25 -->\n<g id=\"edge24\" class=\"edge\">\n<title>26&#45;&gt;25</title>\n<path fill=\"none\" stroke=\"black\" d=\"M1026.29,-173.8C1034.68,-161.7 1046.06,-145.3 1055.53,-131.67\"/>\n<polygon fill=\"black\" stroke=\"black\" points=\"1058.6,-133.39 1061.42,-123.18 1052.85,-129.39 1058.6,-133.39\"/>\n<text text-anchor=\"middle\" x=\"1061.85\" y=\"-144.8\" font-family=\"Times New Roman,serif\" font-size=\"14.00\">True</text>\n</g>\n<!-- 27 -->\n<g id=\"node28\" class=\"node\">\n<title>27</title>\n<ellipse fill=\"lightgrey\" stroke=\"black\" cx=\"1189.35\" cy=\"-105\" rx=\"48.99\" ry=\"18\"/>\n<text text-anchor=\"middle\" x=\"1189.35\" y=\"-101.3\" font-family=\"Times New Roman,serif\" font-size=\"14.00\">pathologic</text>\n</g>\n<!-- 28 -->\n<g id=\"node29\" class=\"node\">\n<title>28</title>\n<ellipse fill=\"lightgrey\" stroke=\"black\" cx=\"1297.35\" cy=\"-18\" rx=\"48.99\" ry=\"18\"/>\n<text text-anchor=\"middle\" x=\"1297.35\" y=\"-14.3\" font-family=\"Times New Roman,serif\" font-size=\"14.00\">pathologic</text>\n</g>\n<!-- 29 -->\n<g id=\"node30\" class=\"node\">\n<title>29</title>\n<ellipse fill=\"lightgrey\" stroke=\"black\" cx=\"1402.35\" cy=\"-18\" rx=\"38.19\" ry=\"18\"/>\n<text text-anchor=\"middle\" x=\"1402.35\" y=\"-14.3\" font-family=\"Times New Roman,serif\" font-size=\"14.00\">suspect</text>\n</g>\n<!-- 30 -->\n<g id=\"node31\" class=\"node\">\n<title>30</title>\n<path fill=\"yellow\" stroke=\"black\" d=\"M1344.85,-123C1344.85,-123 1267.85,-123 1267.85,-123 1261.85,-123 1255.85,-117 1255.85,-111 1255.85,-111 1255.85,-99 1255.85,-99 1255.85,-93 1261.85,-87 1267.85,-87 1267.85,-87 1344.85,-87 1344.85,-87 1350.85,-87 1356.85,-93 1356.85,-99 1356.85,-99 1356.85,-111 1356.85,-111 1356.85,-117 1350.85,-123 1344.85,-123\"/>\n<text text-anchor=\"middle\" x=\"1306.35\" y=\"-101.3\" font-family=\"Times New Roman,serif\" font-size=\"14.00\">Variance &gt; 43?</text>\n</g>\n<!-- 30&#45;&gt;28 -->\n<g id=\"edge25\" class=\"edge\">\n<title>30&#45;&gt;28</title>\n<path fill=\"none\" stroke=\"black\" d=\"M1304.53,-86.8C1303.29,-75.16 1301.64,-59.55 1300.23,-46.24\"/>\n<polygon fill=\"black\" stroke=\"black\" points=\"1303.7,-45.75 1299.17,-36.18 1296.74,-46.49 1303.7,-45.75\"/>\n<text text-anchor=\"middle\" x=\"1318.35\" y=\"-57.8\" font-family=\"Times New Roman,serif\" font-size=\"14.00\">False</text>\n</g>\n<!-- 30&#45;&gt;29 -->\n<g id=\"edge26\" class=\"edge\">\n<title>30&#45;&gt;29</title>\n<path fill=\"none\" stroke=\"black\" d=\"M1325.77,-86.8C1340.75,-73.54 1361.55,-55.12 1377.7,-40.83\"/>\n<polygon fill=\"black\" stroke=\"black\" points=\"1380.03,-43.43 1385.2,-34.18 1375.39,-38.19 1380.03,-43.43\"/>\n<text text-anchor=\"middle\" x=\"1372.85\" y=\"-57.8\" font-family=\"Times New Roman,serif\" font-size=\"14.00\">True</text>\n</g>\n<!-- 31 -->\n<g id=\"node32\" class=\"node\">\n<title>31</title>\n<path fill=\"yellow\" stroke=\"black\" d=\"M1232.35,-210C1232.35,-210 1146.35,-210 1146.35,-210 1140.35,-210 1134.35,-204 1134.35,-198 1134.35,-198 1134.35,-186 1134.35,-186 1134.35,-180 1140.35,-174 1146.35,-174 1146.35,-174 1232.35,-174 1232.35,-174 1238.35,-174 1244.35,-180 1244.35,-186 1244.35,-186 1244.35,-198 1244.35,-198 1244.35,-204 1238.35,-210 1232.35,-210\"/>\n<text text-anchor=\"middle\" x=\"1189.35\" y=\"-188.3\" font-family=\"Times New Roman,serif\" font-size=\"14.00\">Median &gt; 128.5?</text>\n</g>\n<!-- 31&#45;&gt;27 -->\n<g id=\"edge27\" class=\"edge\">\n<title>31&#45;&gt;27</title>\n<path fill=\"none\" stroke=\"black\" d=\"M1189.35,-173.8C1189.35,-162.16 1189.35,-146.55 1189.35,-133.24\"/>\n<polygon fill=\"black\" stroke=\"black\" points=\"1192.85,-133.18 1189.35,-123.18 1185.85,-133.18 1192.85,-133.18\"/>\n<text text-anchor=\"middle\" x=\"1204.35\" y=\"-144.8\" font-family=\"Times New Roman,serif\" font-size=\"14.00\">False</text>\n</g>\n<!-- 31&#45;&gt;30 -->\n<g id=\"edge28\" class=\"edge\">\n<title>31&#45;&gt;30</title>\n<path fill=\"none\" stroke=\"black\" d=\"M1213.02,-173.8C1230.71,-160.95 1255.06,-143.26 1274.46,-129.17\"/>\n<polygon fill=\"black\" stroke=\"black\" points=\"1276.67,-131.88 1282.71,-123.18 1272.56,-126.22 1276.67,-131.88\"/>\n<text text-anchor=\"middle\" x=\"1268.85\" y=\"-144.8\" font-family=\"Times New Roman,serif\" font-size=\"14.00\">True</text>\n</g>\n<!-- 32 -->\n<g id=\"node33\" class=\"node\">\n<title>32</title>\n<path fill=\"yellow\" stroke=\"black\" d=\"M1039.35,-297C1039.35,-297 989.35,-297 989.35,-297 983.35,-297 977.35,-291 977.35,-285 977.35,-285 977.35,-273 977.35,-273 977.35,-267 983.35,-261 989.35,-261 989.35,-261 1039.35,-261 1039.35,-261 1045.35,-261 1051.35,-267 1051.35,-273 1051.35,-273 1051.35,-285 1051.35,-285 1051.35,-291 1045.35,-297 1039.35,-297\"/>\n<text text-anchor=\"middle\" x=\"1014.35\" y=\"-275.3\" font-family=\"Times New Roman,serif\" font-size=\"14.00\">DP &gt; 1.5?</text>\n</g>\n<!-- 32&#45;&gt;26 -->\n<g id=\"edge29\" class=\"edge\">\n<title>32&#45;&gt;26</title>\n<path fill=\"none\" stroke=\"black\" d=\"M1014.35,-260.8C1014.35,-249.16 1014.35,-233.55 1014.35,-220.24\"/>\n<polygon fill=\"black\" stroke=\"black\" points=\"1017.85,-220.18 1014.35,-210.18 1010.85,-220.18 1017.85,-220.18\"/>\n<text text-anchor=\"middle\" x=\"1029.35\" y=\"-231.8\" font-family=\"Times New Roman,serif\" font-size=\"14.00\">False</text>\n</g>\n<!-- 32&#45;&gt;31 -->\n<g id=\"edge30\" class=\"edge\">\n<title>32&#45;&gt;31</title>\n<path fill=\"none\" stroke=\"black\" d=\"M1049.76,-260.8C1077.25,-247.45 1115.52,-228.86 1145.03,-214.52\"/>\n<polygon fill=\"black\" stroke=\"black\" points=\"1146.82,-217.55 1154.28,-210.03 1143.76,-211.25 1146.82,-217.55\"/>\n<text text-anchor=\"middle\" x=\"1125.85\" y=\"-231.8\" font-family=\"Times New Roman,serif\" font-size=\"14.00\">True</text>\n</g>\n<!-- 33 -->\n<g id=\"node34\" class=\"node\">\n<title>33</title>\n<path fill=\"yellow\" stroke=\"black\" d=\"M704.35,-384C704.35,-384 628.35,-384 628.35,-384 622.35,-384 616.35,-378 616.35,-372 616.35,-372 616.35,-360 616.35,-360 616.35,-354 622.35,-348 628.35,-348 628.35,-348 704.35,-348 704.35,-348 710.35,-348 716.35,-354 716.35,-360 716.35,-360 716.35,-372 716.35,-372 716.35,-378 710.35,-384 704.35,-384\"/>\n<text text-anchor=\"middle\" x=\"666.35\" y=\"-362.3\" font-family=\"Times New Roman,serif\" font-size=\"14.00\">Mean &gt; 107.5?</text>\n</g>\n<!-- 33&#45;&gt;19 -->\n<g id=\"edge31\" class=\"edge\">\n<title>33&#45;&gt;19</title>\n<path fill=\"none\" stroke=\"black\" d=\"M666.35,-347.8C666.35,-336.16 666.35,-320.55 666.35,-307.24\"/>\n<polygon fill=\"black\" stroke=\"black\" points=\"669.85,-307.18 666.35,-297.18 662.85,-307.18 669.85,-307.18\"/>\n<text text-anchor=\"middle\" x=\"681.35\" y=\"-318.8\" font-family=\"Times New Roman,serif\" font-size=\"14.00\">False</text>\n</g>\n<!-- 33&#45;&gt;32 -->\n<g id=\"edge32\" class=\"edge\">\n<title>33&#45;&gt;32</title>\n<path fill=\"none\" stroke=\"black\" d=\"M716.58,-352.73C783.67,-336.34 901.66,-307.53 967.16,-291.52\"/>\n<polygon fill=\"black\" stroke=\"black\" points=\"968.33,-294.84 977.21,-289.07 966.66,-288.04 968.33,-294.84\"/>\n<text text-anchor=\"middle\" x=\"874.85\" y=\"-318.8\" font-family=\"Times New Roman,serif\" font-size=\"14.00\">True</text>\n</g>\n<!-- 34 -->\n<g id=\"node35\" class=\"node\">\n<title>34</title>\n<path fill=\"yellow\" stroke=\"black\" d=\"M607.85,-471C607.85,-471 530.85,-471 530.85,-471 524.85,-471 518.85,-465 518.85,-459 518.85,-459 518.85,-447 518.85,-447 518.85,-441 524.85,-435 530.85,-435 530.85,-435 607.85,-435 607.85,-435 613.85,-435 619.85,-441 619.85,-447 619.85,-447 619.85,-459 619.85,-459 619.85,-465 613.85,-471 607.85,-471\"/>\n<text text-anchor=\"middle\" x=\"569.35\" y=\"-449.3\" font-family=\"Times New Roman,serif\" font-size=\"14.00\">MSTV &gt; 0.45?</text>\n</g>\n<!-- 34&#45;&gt;12 -->\n<g id=\"edge33\" class=\"edge\">\n<title>34&#45;&gt;12</title>\n<path fill=\"none\" stroke=\"black\" d=\"M557,-434.8C548.32,-422.7 536.55,-406.3 526.77,-392.67\"/>\n<polygon fill=\"black\" stroke=\"black\" points=\"529.35,-390.26 520.67,-384.18 523.66,-394.34 529.35,-390.26\"/>\n<text text-anchor=\"middle\" x=\"558.35\" y=\"-405.8\" font-family=\"Times New Roman,serif\" font-size=\"14.00\">False</text>\n</g>\n<!-- 34&#45;&gt;33 -->\n<g id=\"edge34\" class=\"edge\">\n<title>34&#45;&gt;33</title>\n<path fill=\"none\" stroke=\"black\" d=\"M588.98,-434.8C603.31,-422.24 622.93,-405.05 638.82,-391.12\"/>\n<polygon fill=\"black\" stroke=\"black\" points=\"641.53,-393.4 646.75,-384.18 636.92,-388.13 641.53,-393.4\"/>\n<text text-anchor=\"middle\" x=\"637.85\" y=\"-405.8\" font-family=\"Times New Roman,serif\" font-size=\"14.00\">True</text>\n</g>\n</g>\n</svg>\n",
      "text/plain": "<graphviz.graphs.Digraph at 0x2616b5c1240>"
     },
     "execution_count": 35,
     "metadata": {},
     "output_type": "execute_result"
    }
   ],
   "source": [
    "clf = TreeClassifier(max_depth=5)\n",
    "clf.fit(Xtrain, Ytrain)\n",
    "clf.draw_tree()\n",
    "# On my IDE, it shows the right image. If the image isn't rendered, you can find it aside in the directory."
   ]
  },
  {
   "cell_type": "markdown",
   "metadata": {
    "pycharm": {
     "name": "#%% md\n"
    }
   },
   "source": [
    "### Task 3"
   ]
  },
  {
   "cell_type": "code",
   "execution_count": 36,
   "metadata": {
    "pycharm": {
     "name": "#%%\n"
    }
   },
   "outputs": [],
   "source": [
    "# Read the CSV file using Pandas.\n",
    "alldata = pd.read_csv(\"./task3_sberbank.csv\")\n",
    "\n",
    "\n",
    "# Convert the timestamp string to an integer representing the year.\n",
    "def get_year(timestamp):\n",
    "    return int(timestamp[:4])\n",
    "\n",
    "\n",
    "alldata[\"year\"] = alldata.timestamp.apply(get_year)\n",
    "\n",
    "# Select the 9 input columns and the output column.\n",
    "selected_columns = [\"price_doc\", \"year\", \"full_sq\", \"life_sq\", \"floor\", \"num_room\", \"kitch_sq\", \"full_all\"]\n",
    "alldata = alldata[selected_columns]\n",
    "alldata = alldata.dropna()\n",
    "\n",
    "# Shuffle.\n",
    "alldata_shuffled = alldata.sample(frac=1.0, random_state=0)\n",
    "\n",
    "# Separate the input and output columns.\n",
    "X = alldata_shuffled.drop(\"price_doc\", axis=1)\n",
    "# For the output, we will use the log of the sales price.\n",
    "Y = alldata_shuffled[\"price_doc\"].apply(np.log)\n",
    "\n",
    "# Split into training and test sets.\n",
    "Xtrain, Xtest, Ytrain, Ytest = train_test_split(X, Y, test_size=0.2, random_state=0)\n",
    "\n",
    "\n",
    "def score(model):\n",
    "    return np.average(cross_validate(model, Xtrain, Ytrain, scoring=\"neg_mean_squared_error\")[\"test_score\"])"
   ]
  },
  {
   "cell_type": "code",
   "execution_count": 37,
   "metadata": {
    "pycharm": {
     "name": "#%%\n"
    }
   },
   "outputs": [
    {
     "data": {
      "text/plain": "-0.30139865887672024"
     },
     "execution_count": 37,
     "metadata": {},
     "output_type": "execute_result"
    }
   ],
   "source": [
    "from sklearn.model_selection import cross_validate\n",
    "\n",
    "from sklearn.linear_model import LinearRegression\n",
    "\n",
    "score(LinearRegression())"
   ]
  },
  {
   "cell_type": "code",
   "execution_count": 38,
   "metadata": {
    "pycharm": {
     "name": "#%%\n"
    }
   },
   "outputs": [
    {
     "data": {
      "text/plain": "-0.30139784232179745"
     },
     "execution_count": 38,
     "metadata": {},
     "output_type": "execute_result"
    }
   ],
   "source": [
    "from sklearn.linear_model import Ridge\n",
    "\n",
    "score(Ridge())"
   ]
  },
  {
   "cell_type": "code",
   "execution_count": 39,
   "metadata": {
    "pycharm": {
     "name": "#%%\n"
    }
   },
   "outputs": [
    {
     "data": {
      "text/plain": "-0.3010470671748872"
     },
     "execution_count": 39,
     "metadata": {},
     "output_type": "execute_result"
    }
   ],
   "source": [
    "from sklearn.linear_model import Lasso\n",
    "\n",
    "score(Lasso())"
   ]
  },
  {
   "cell_type": "code",
   "execution_count": 40,
   "metadata": {
    "pycharm": {
     "name": "#%%\n"
    }
   },
   "outputs": [
    {
     "data": {
      "text/plain": "-0.5222037164778938"
     },
     "execution_count": 40,
     "metadata": {},
     "output_type": "execute_result"
    }
   ],
   "source": [
    "from sklearn.tree import DecisionTreeRegressor\n",
    "\n",
    "score(DecisionTreeRegressor())"
   ]
  },
  {
   "cell_type": "code",
   "execution_count": 41,
   "metadata": {
    "pycharm": {
     "name": "#%%\n"
    }
   },
   "outputs": [
    {
     "data": {
      "text/plain": "-0.28433391674332176"
     },
     "execution_count": 41,
     "metadata": {},
     "output_type": "execute_result"
    }
   ],
   "source": [
    "from sklearn.ensemble import RandomForestRegressor\n",
    "\n",
    "score(RandomForestRegressor())"
   ]
  },
  {
   "cell_type": "code",
   "execution_count": 42,
   "metadata": {
    "pycharm": {
     "name": "#%%\n"
    }
   },
   "outputs": [
    {
     "data": {
      "text/plain": "-0.2645197655667276"
     },
     "execution_count": 42,
     "metadata": {},
     "output_type": "execute_result"
    }
   ],
   "source": [
    "from sklearn.ensemble import GradientBoostingRegressor\n",
    "\n",
    "score(GradientBoostingRegressor())"
   ]
  },
  {
   "cell_type": "code",
   "execution_count": 43,
   "metadata": {
    "pycharm": {
     "name": "#%%\n"
    }
   },
   "outputs": [
    {
     "data": {
      "text/plain": "-423.3338845519708"
     },
     "execution_count": 43,
     "metadata": {},
     "output_type": "execute_result"
    }
   ],
   "source": [
    "from sklearn.neural_network import MLPRegressor\n",
    "\n",
    "score(MLPRegressor())\n",
    "# NOTE: With an error of a magnitude of minus several hundred, there is something fishy with this regressor.\n",
    "#       Maybe a missing hyperparameter?"
   ]
  },
  {
   "cell_type": "code",
   "execution_count": 44,
   "metadata": {
    "pycharm": {
     "name": "#%%\n"
    }
   },
   "outputs": [
    {
     "data": {
      "text/plain": "0.2714620361051084"
     },
     "execution_count": 44,
     "metadata": {},
     "output_type": "execute_result"
    }
   ],
   "source": [
    "from sklearn.metrics import mean_squared_error\n",
    "\n",
    "regr = GradientBoostingRegressor()\n",
    "regr.fit(Xtrain, Ytrain)\n",
    "mean_squared_error(Ytest, regr.predict(Xtest))"
   ]
  },
  {
   "cell_type": "markdown",
   "metadata": {
    "pycharm": {
     "name": "#%% md\n"
    }
   },
   "source": [
    "I picked the gradient boosting algorithm as my regressor,\n",
    "since it had the closest mean squared error to zero of all the algorithms.\n",
    "The error is about 0.271 for the test set.\n",
    "\n",
    "Like the gradient boosting classifier, this regressor is an algorithm that combine several weaker learning models,\n",
    "like decision trees, to create a stronger model.\n"
   ]
  }
 ],
 "metadata": {
  "kernelspec": {
   "display_name": "Python 3 (ipykernel)",
   "language": "python",
   "name": "python3"
  },
  "language_info": {
   "codemirror_mode": {
    "name": "ipython",
    "version": 3
   },
   "file_extension": ".py",
   "mimetype": "text/x-python",
   "name": "python",
   "nbconvert_exporter": "python",
   "pygments_lexer": "ipython3",
   "version": "3.10.0"
  }
 },
 "nbformat": 4,
 "nbformat_minor": 1
}