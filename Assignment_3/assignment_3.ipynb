{
 "cells": [
  {
   "cell_type": "markdown",
   "metadata": {},
   "source": [
    "# DAT340, Assignment 3\n",
    "\n",
    "### Romain THEODET\n",
    "\n",
    "In this assignment, we have to implement a political stance classification algorithm for Covid-19 sentences.\n",
    "See the report for further details.\n"
   ]
  },
  {
   "cell_type": "code",
   "execution_count": 24,
   "metadata": {
    "pycharm": {
     "name": "#%%\n"
    }
   },
   "outputs": [],
   "source": [
    "from typing import Callable\n",
    "import pandas as pd\n",
    "from sklearn.feature_extraction.text import TfidfVectorizer, HashingVectorizer\n",
    "from sklearn.svm import LinearSVC\n",
    "from sklearn.pipeline import make_pipeline\n",
    "from sklearn.metrics import accuracy_score\n",
    "import unicodedata\n",
    "\n",
    "# Pandas column\n",
    "ratingCol = \"rating\"\n",
    "messageCol = \"message\"\n",
    "\n",
    "# Seed for all random numbers\n",
    "randomSeed = 0\n",
    "\n",
    "# Read the data files\n",
    "dataTrain = pd.read_csv(\"./a3_train.tsv\", names=[ratingCol, messageCol], sep=\"\\t\").dropna()\n",
    "dataTest = pd.read_csv(\"./a3_test.tsv\", names=[ratingCol, messageCol], sep=\"\\t\").dropna()\n",
    "\n",
    "\n",
    "def normalizeString(msg: str) -> str:\n",
    "    msg = unicodedata.normalize(\"NFKD\", msg)\n",
    "    msg = msg.encode(\"ascii\", \"ignore\")\n",
    "    return msg.decode(\"utf-8\", \"ignore\")\n",
    "\n",
    "\n",
    "# Normalize strings\n",
    "# dataTrain[messageCol] = dataTrain[messageCol].apply(normalizeString)\n",
    "# dataTest[messageCol] = dataTest[messageCol].apply(normalizeString)\n",
    "\n",
    "# Shuffle the dataset\n",
    "dataTrain = dataTrain.sample(frac=1.0, random_state=randomSeed)\n",
    "dataTest = dataTest.sample(frac=1.0, random_state=randomSeed)\n",
    "\n",
    "\n",
    "def getTrainData(ratingFunc: Callable[[tuple[int]], int]) -> (pd.Series, pd.Series):\n",
    "    dataModified = pd.DataFrame()\n",
    "    dataModified[messageCol] = dataTrain[messageCol]\n",
    "    dataModified[ratingCol] = dataTrain[ratingCol].apply(lambda elt: ratingFunc(tuple(map(int, elt.split(\"/\")))))\n",
    "    dataModified = dataModified[dataModified[ratingCol] != -1]\n",
    "    return dataModified[messageCol], dataModified[ratingCol]\n",
    "\n",
    "\n",
    "def printAccuracy(msg: str, ratingFunc: Callable[[tuple[int]], int], lowercase: bool, algorithm: str) -> None:\n",
    "    xTrain, yTrain = getTrainData(ratingFunc)\n",
    "\n",
    "    if algorithm == \"tfidf\":\n",
    "        vectorizer = TfidfVectorizer(\n",
    "            max_df=0.5,\n",
    "            min_df=1e-4,\n",
    "            lowercase=lowercase,\n",
    "        )\n",
    "    elif algorithm == \"hashing\":\n",
    "        vectorizer = HashingVectorizer(\n",
    "            lowercase=lowercase,\n",
    "            n_features=2 ** 18,\n",
    "        )\n",
    "    else:\n",
    "        raise ValueError(\"Unknown algorithm\")\n",
    "\n",
    "    pipeline = make_pipeline(vectorizer, LinearSVC())\n",
    "    pipeline.fit(xTrain, yTrain)\n",
    "\n",
    "    print(msg, \": accuracy: %.2f %%\" % (accuracy_score(yTest, pipeline.predict(xTest)) * 100), sep=\"\")\n",
    "\n",
    "\n",
    "xTest, yTest = dataTest[messageCol], dataTest[ratingCol]\n"
   ]
  },
  {
   "cell_type": "code",
   "execution_count": 25,
   "metadata": {
    "pycharm": {
     "name": "#%%\n"
    }
   },
   "outputs": [
    {
     "name": "stdout",
     "output_type": "stream",
     "text": [
      "Majority classification \t tfidf \t\t no bad values \t\t\t\t: accuracy: 86.18 %\n",
      "Majority classification \t tfidf \t\t no bad values \t lowercase \t: accuracy: 86.80 %\n",
      "Majority classification \t hashing \t no bad values \t\t\t\t: accuracy: 86.18 %\n",
      "Majority classification \t hashing \t no bad values \t lowercase \t: accuracy: 86.18 %\n",
      "Majority classification \t tfidf \t\t bad values \t\t\t\t: accuracy: 86.80 %\n",
      "Majority classification \t tfidf \t\t bad values \t lowercase \t: accuracy: 86.62 %\n",
      "Majority classification \t hashing \t bad values \t\t\t\t: accuracy: 86.97 %\n",
      "Majority classification \t hashing \t bad values \t lowercase \t: accuracy: 87.15 %\n"
     ]
    }
   ],
   "source": [
    "def majorityClassificationNoBad(ratings: tuple[int]) -> int:\n",
    "    if -1 in ratings:\n",
    "        return -1\n",
    "\n",
    "    return round(sum(ratings) / len(ratings))\n",
    "\n",
    "\n",
    "printAccuracy(\"Majority classification \\t tfidf \\t\\t no bad values \\t\\t\\t\\t\", majorityClassificationNoBad, False,\n",
    "              \"tfidf\")\n",
    "\n",
    "printAccuracy(\"Majority classification \\t tfidf \\t\\t no bad values \\t lowercase \\t\", majorityClassificationNoBad, True,\n",
    "              \"tfidf\")\n",
    "\n",
    "printAccuracy(\"Majority classification \\t hashing \\t no bad values \\t\\t\\t\\t\", majorityClassificationNoBad, False,\n",
    "              \"hashing\")\n",
    "printAccuracy(\"Majority classification \\t hashing \\t no bad values \\t lowercase \\t\", majorityClassificationNoBad, True,\n",
    "              \"hashing\")\n",
    "\n",
    "\n",
    "def majorityClassificationWithBad(ratings: tuple[int]) -> int:\n",
    "    ratings = tuple(filter(lambda r: r != -1, ratings))\n",
    "\n",
    "    return round(sum(ratings) / len(ratings))\n",
    "\n",
    "\n",
    "printAccuracy(\"Majority classification \\t tfidf \\t\\t bad values \\t\\t\\t\\t\", majorityClassificationWithBad, False,\n",
    "              \"tfidf\")\n",
    "printAccuracy(\"Majority classification \\t tfidf \\t\\t bad values \\t lowercase \\t\", majorityClassificationWithBad, True,\n",
    "              \"tfidf\")\n",
    "\n",
    "printAccuracy(\"Majority classification \\t hashing \\t bad values \\t\\t\\t\\t\", majorityClassificationWithBad, False,\n",
    "              \"hashing\")\n",
    "printAccuracy(\"Majority classification \\t hashing \\t bad values \\t lowercase \\t\", majorityClassificationWithBad, True,\n",
    "              \"hashing\")\n"
   ]
  },
  {
   "cell_type": "code",
   "execution_count": 26,
   "metadata": {
    "pycharm": {
     "name": "#%%\n"
    }
   },
   "outputs": [
    {
     "name": "stdout",
     "output_type": "stream",
     "text": [
      "Zero prioritized \t tfidf \t\t no bad values \t\t\t\t: accuracy: 85.92 %\n",
      "Zero prioritized \t tfidf \t\t no bad values \t lowercase \t: accuracy: 86.97 %\n",
      "Zero prioritized \t hashing \t no bad values \t\t\t\t: accuracy: 86.36 %\n",
      "Zero prioritized \t hashing \t no bad values \t lowercase \t: accuracy: 86.18 %\n",
      "Zero prioritized \t tfidf \t\t bad values \t\t\t\t: accuracy: 86.88 %\n",
      "Zero prioritized \t tfidf \t\t bad values \t lowercase \t: accuracy: 86.71 %\n",
      "Zero prioritized \t hashing \t bad values \t\t\t\t: accuracy: 87.06 %\n",
      "Zero prioritized \t hashing \t bad values \t lowercase \t: accuracy: 87.24 %\n"
     ]
    }
   ],
   "source": [
    "def zeroPrioritizedNoBad(ratings: tuple[int]) -> int:\n",
    "    if -1 in ratings:\n",
    "        return -1\n",
    "\n",
    "    if all(ratings):\n",
    "        # All ratings are 1\n",
    "        return 1\n",
    "\n",
    "    return 0\n",
    "\n",
    "\n",
    "printAccuracy(\"Zero prioritized \\t tfidf \\t\\t no bad values \\t\\t\\t\\t\", zeroPrioritizedNoBad, False, \"tfidf\")\n",
    "printAccuracy(\"Zero prioritized \\t tfidf \\t\\t no bad values \\t lowercase \\t\", zeroPrioritizedNoBad, True, \"tfidf\")\n",
    "\n",
    "printAccuracy(\"Zero prioritized \\t hashing \\t no bad values \\t\\t\\t\\t\", zeroPrioritizedNoBad, False, \"hashing\")\n",
    "printAccuracy(\"Zero prioritized \\t hashing \\t no bad values \\t lowercase \\t\", zeroPrioritizedNoBad, True, \"hashing\")\n",
    "\n",
    "\n",
    "def zeroPrioritizedWithBad(ratings: tuple[int]) -> int:\n",
    "    ratings = tuple(filter(lambda r: r != -1, ratings))\n",
    "    if len(ratings) == 0:\n",
    "        return -1\n",
    "\n",
    "    if all(ratings):\n",
    "        # All ratings are 1\n",
    "        return 1\n",
    "\n",
    "    return 0\n",
    "\n",
    "\n",
    "printAccuracy(\"Zero prioritized \\t tfidf \\t\\t bad values \\t\\t\\t\\t\", zeroPrioritizedWithBad, False, \"tfidf\")\n",
    "printAccuracy(\"Zero prioritized \\t tfidf \\t\\t bad values \\t lowercase \\t\", zeroPrioritizedWithBad, True, \"tfidf\")\n",
    "\n",
    "printAccuracy(\"Zero prioritized \\t hashing \\t bad values \\t\\t\\t\\t\", zeroPrioritizedWithBad, False, \"hashing\")\n",
    "printAccuracy(\"Zero prioritized \\t hashing \\t bad values \\t lowercase \\t\", zeroPrioritizedWithBad, True, \"hashing\")\n"
   ]
  },
  {
   "cell_type": "code",
   "execution_count": 27,
   "metadata": {
    "pycharm": {
     "name": "#%%\n"
    }
   },
   "outputs": [
    {
     "name": "stdout",
     "output_type": "stream",
     "text": [
      "One prioritized \t tfidf \t\t no bad values \t\t\t\t: accuracy: 86.36 %\n",
      "One prioritized \t tfidf \t\t no bad values \t lowercase \t: accuracy: 87.41 %\n",
      "One prioritized \t hashing \t no bad values \t\t\t\t: accuracy: 85.92 %\n",
      "One prioritized \t hashing \t no bad values \t lowercase \t: accuracy: 86.27 %\n",
      "One prioritized \t tfidf \t\t bad values \t\t\t\t: accuracy: 86.97 %\n",
      "One prioritized \t tfidf \t\t bad values \t lowercase \t: accuracy: 86.71 %\n",
      "One prioritized \t hashing \t bad values \t\t\t\t: accuracy: 86.09 %\n",
      "One prioritized \t hashing \t bad values \t lowercase \t: accuracy: 85.92 %\n"
     ]
    }
   ],
   "source": [
    "def onePrioritizedNoBad(ratings: tuple[int]) -> int:\n",
    "    if -1 in ratings:\n",
    "        return -1\n",
    "\n",
    "    if not any(ratings):\n",
    "        # All ratings are 0\n",
    "        return 0\n",
    "\n",
    "    return 1\n",
    "\n",
    "\n",
    "printAccuracy(\"One prioritized \\t tfidf \\t\\t no bad values \\t\\t\\t\\t\", onePrioritizedNoBad, False, \"tfidf\")\n",
    "printAccuracy(\"One prioritized \\t tfidf \\t\\t no bad values \\t lowercase \\t\", onePrioritizedNoBad, True, \"tfidf\")\n",
    "\n",
    "printAccuracy(\"One prioritized \\t hashing \\t no bad values \\t\\t\\t\\t\", onePrioritizedNoBad, False, \"hashing\")\n",
    "printAccuracy(\"One prioritized \\t hashing \\t no bad values \\t lowercase \\t\", onePrioritizedNoBad, True, \"hashing\")\n",
    "\n",
    "\n",
    "def onePrioritizedWithBad(ratings: tuple[int]) -> int:\n",
    "    ratings = tuple(filter(lambda r: r != -1, ratings))\n",
    "    if len(ratings) == 0:\n",
    "        return -1\n",
    "\n",
    "    if not any(ratings):\n",
    "        # All ratings are 0\n",
    "        return 0\n",
    "\n",
    "    return 1\n",
    "\n",
    "\n",
    "printAccuracy(\"One prioritized \\t tfidf \\t\\t bad values \\t\\t\\t\\t\", onePrioritizedWithBad, False, \"tfidf\")\n",
    "printAccuracy(\"One prioritized \\t tfidf \\t\\t bad values \\t lowercase \\t\", onePrioritizedWithBad, True, \"tfidf\")\n",
    "\n",
    "printAccuracy(\"One prioritized \\t hashing \\t bad values \\t\\t\\t\\t\", onePrioritizedWithBad, False, \"hashing\")\n",
    "printAccuracy(\"One prioritized \\t hashing \\t bad values \\t lowercase \\t\", onePrioritizedWithBad, True, \"hashing\")\n"
   ]
  },
  {
   "cell_type": "code",
   "execution_count": 28,
   "metadata": {
    "pycharm": {
     "name": "#%%\n"
    }
   },
   "outputs": [
    {
     "name": "stdout",
     "output_type": "stream",
     "text": [
      "Random classification: accuracy: 49.91 %\n"
     ]
    }
   ],
   "source": [
    "import random\n",
    "\n",
    "random.seed(randomSeed)\n",
    "\n",
    "\n",
    "def randomClassification(_ratings: tuple[int]) -> int:\n",
    "    return random.randint(0, 1)\n",
    "\n",
    "\n",
    "printAccuracy(\"Random classification\", randomClassification, False, \"tfidf\")\n"
   ]
  },
  {
   "cell_type": "code",
   "execution_count": 29,
   "metadata": {
    "pycharm": {
     "name": "#%%\n"
    }
   },
   "outputs": [
    {
     "data": {
      "text/plain": "<Figure size 432x288 with 1 Axes>",
      "image/png": "[encoded data removed]"
     },
     "metadata": {
      "needs_background": "light"
     },
     "output_type": "display_data"
    }
   ],
   "source": [
    "import matplotlib.pyplot as plt\n",
    "import math\n",
    "\n",
    "# Calculate different accuracies\n",
    "accuracies = []\n",
    "features = [int(2 ** (x / 2)) for x in range(10 * 2, 20 * 2 + 1)]\n",
    "\n",
    "xTrain, yTrain = getTrainData(majorityClassificationNoBad)\n",
    "\n",
    "for feat in features:\n",
    "    pipeline = make_pipeline(HashingVectorizer(\n",
    "        lowercase=False,\n",
    "        n_features=feat,\n",
    "    ), LinearSVC())\n",
    "    pipeline.fit(xTrain, yTrain)\n",
    "\n",
    "    accuracy = accuracy_score(yTest, pipeline.predict(xTest))\n",
    "    accuracies.append(math.log(accuracy))\n",
    "\n",
    "# Plotting the graph\n",
    "plt.plot([math.log(f, 2) for f in features], accuracies, c=\"red\", marker=\"x\", label=\"HashingVectorizer\")\n",
    "plt.xlabel(\"Number of features, logarithmic\")\n",
    "plt.ylabel(\"Accuracy, logarithmic\")\n",
    "plt.title(\"Accuracy evolution with number of features\")\n",
    "plt.legend()\n",
    "plt.show()\n"
   ]
  },
  {
   "cell_type": "code",
   "execution_count": 30,
   "metadata": {
    "pycharm": {
     "name": "#%%\n"
    }
   },
   "outputs": [
    {
     "data": {
      "text/plain": "<Figure size 432x288 with 1 Axes>",
      "image/png": "[encoded data removed]"
     },
     "metadata": {
      "needs_background": "light"
     },
     "output_type": "display_data"
    }
   ],
   "source": [
    "import matplotlib.pyplot as plt\n",
    "import math\n",
    "\n",
    "# Calculate different accuracies\n",
    "accuracies = []\n",
    "features = [int(2 ** (x / 3)) for x in range(10 * 3, 15 * 3 + 1)]\n",
    "\n",
    "xTrain, yTrain = getTrainData(onePrioritizedNoBad)\n",
    "\n",
    "for feat in features:\n",
    "    pipeline = make_pipeline(TfidfVectorizer(\n",
    "        lowercase=True,\n",
    "        max_features=feat,\n",
    "    ), LinearSVC())\n",
    "    pipeline.fit(xTrain, yTrain)\n",
    "\n",
    "    accuracy = accuracy_score(yTest, pipeline.predict(xTest))\n",
    "    accuracies.append(math.log(accuracy))\n",
    "\n",
    "# Plotting the graph\n",
    "plt.plot([math.log(f, 2) for f in features], accuracies, c=\"green\", marker=\"x\", label=\"TfidfVectorizer\")\n",
    "plt.xlabel(\"Number of features, logarithmic\")\n",
    "plt.ylabel(\"Accuracy, logarithmic\")\n",
    "plt.title(\"Accuracy evolution with number of features\")\n",
    "plt.legend()\n",
    "plt.show()\n"
   ]
  },
  {
   "cell_type": "code",
   "execution_count": 31,
   "metadata": {
    "pycharm": {
     "name": "#%%\n"
    }
   },
   "outputs": [
    {
     "data": {
      "text/plain": "                                             comment   predicted      actual\n0  and now they want to vaccinate the entire worl...  Supporting     Against\n1  don't take their vaccines, do your own researc...  Supporting     Against\n2  the government explains the effectiveness of t...     Against  Supporting\n3  Just because vaccines aren’t perfect doesn’t n...     Against  Supporting\n4  I'm just happy this vaccine exists. The number...     Against  Supporting\n5  There should be more measures or schemes to im...  Supporting     Against\n6  When the most evil people on the planet are te...  Supporting     Against\n7  There also needs to be urgent outreach to youn...     Against  Supporting\n8                             no other effective way     Against  Supporting\n9  The problem with this vaccine is that it sound...  Supporting     Against",
      "text/html": "<div>\n<style scoped>\n    .dataframe tbody tr th:only-of-type {\n        vertical-align: middle;\n    }\n\n    .dataframe tbody tr th {\n        vertical-align: top;\n    }\n\n    .dataframe thead th {\n        text-align: right;\n    }\n</style>\n<table border=\"1\" class=\"dataframe\">\n  <thead>\n    <tr style=\"text-align: right;\">\n      <th></th>\n      <th>comment</th>\n      <th>predicted</th>\n      <th>actual</th>\n    </tr>\n  </thead>\n  <tbody>\n    <tr>\n      <th>0</th>\n      <td>and now they want to vaccinate the entire worl...</td>\n      <td>Supporting</td>\n      <td>Against</td>\n    </tr>\n    <tr>\n      <th>1</th>\n      <td>don't take their vaccines, do your own researc...</td>\n      <td>Supporting</td>\n      <td>Against</td>\n    </tr>\n    <tr>\n      <th>2</th>\n      <td>the government explains the effectiveness of t...</td>\n      <td>Against</td>\n      <td>Supporting</td>\n    </tr>\n    <tr>\n      <th>3</th>\n      <td>Just because vaccines aren’t perfect doesn’t n...</td>\n      <td>Against</td>\n      <td>Supporting</td>\n    </tr>\n    <tr>\n      <th>4</th>\n      <td>I'm just happy this vaccine exists. The number...</td>\n      <td>Against</td>\n      <td>Supporting</td>\n    </tr>\n    <tr>\n      <th>5</th>\n      <td>There should be more measures or schemes to im...</td>\n      <td>Supporting</td>\n      <td>Against</td>\n    </tr>\n    <tr>\n      <th>6</th>\n      <td>When the most evil people on the planet are te...</td>\n      <td>Supporting</td>\n      <td>Against</td>\n    </tr>\n    <tr>\n      <th>7</th>\n      <td>There also needs to be urgent outreach to youn...</td>\n      <td>Against</td>\n      <td>Supporting</td>\n    </tr>\n    <tr>\n      <th>8</th>\n      <td>no other effective way</td>\n      <td>Against</td>\n      <td>Supporting</td>\n    </tr>\n    <tr>\n      <th>9</th>\n      <td>The problem with this vaccine is that it sound...</td>\n      <td>Supporting</td>\n      <td>Against</td>\n    </tr>\n  </tbody>\n</table>\n</div>"
     },
     "execution_count": 31,
     "metadata": {},
     "output_type": "execute_result"
    }
   ],
   "source": [
    "pipeline = make_pipeline(TfidfVectorizer(\n",
    "    max_df=0.5,\n",
    "    min_df=1e-4,\n",
    "    lowercase=True,\n",
    "), LinearSVC())\n",
    "pipeline.fit(xTrain, yTrain)\n",
    "\n",
    "yPred = pipeline.predict(xTest)\n",
    "\n",
    "df = pd.DataFrame({\"comment\": [], \"predicted\": [], \"actual\": []})\n",
    "\n",
    "for elt, pred, actual in zip(xTest, yPred, yTest):\n",
    "    if pred != actual:\n",
    "        df = df.append({\n",
    "            \"comment\": elt,\n",
    "            \"predicted\": \"Supporting\" if pred else \"Against\",\n",
    "            \"actual\": \"Supporting\" if actual else \"Against\",\n",
    "        }, ignore_index=True)\n",
    "\n",
    "df.head(10)\n"
   ]
  },
  {
   "cell_type": "code",
   "execution_count": 32,
   "metadata": {
    "pycharm": {
     "name": "#%%\n"
    }
   },
   "outputs": [
    {
     "data": {
      "text/plain": "<Figure size 1296x432 with 2 Axes>",
      "image/png": "[encoded data removed]"
     },
     "metadata": {
      "needs_background": "light"
     },
     "output_type": "display_data"
    }
   ],
   "source": [
    "from sklearn.metrics import confusion_matrix\n",
    "import seaborn as sns\n",
    "\n",
    "# Compare the predicted results to the real ones\n",
    "accuracy = accuracy_score(yTest, yPred)\n",
    "\n",
    "# Generate the confusion matrix based on the predictions and the actual results\n",
    "cm = confusion_matrix(yTest, yPred, normalize=\"true\")\n",
    "\n",
    "labels = [\"Anti-vaccination\", \"Pro-vaccination\"]\n",
    "\n",
    "plt.figure(figsize=(18, 6))\n",
    "sns.heatmap(cm, annot=True, square=True, cmap=\"Reds\", xticklabels=labels, yticklabels=labels)\n",
    "plt.xlabel(\"Predicted label\")\n",
    "plt.ylabel(\"Actual label\")\n",
    "plt.title(\"Confusion matrix\")\n",
    "plt.show()"
   ]
  },
  {
   "cell_type": "code",
   "execution_count": 55,
   "outputs": [
    {
     "name": "stdout",
     "output_type": "stream",
     "text": [
      "The most common words are:\n",
      "\n",
      "to         1147.140513\n",
      "vaccine    1083.280482\n",
      "and         973.258309\n",
      "it          971.866052\n",
      "of          783.315217\n",
      "is          771.262133\n",
      "you         742.268276\n",
      "my          689.807409\n",
      "not         679.156459\n",
      "that        633.555111\n",
      "dtype: float64\n"
     ]
    }
   ],
   "source": [
    "import numpy as np\n",
    "\n",
    "elts = []\n",
    "\n",
    "vectorizer = TfidfVectorizer(\n",
    "    max_df=0.5,\n",
    "    min_df=1e-4,\n",
    "    lowercase=True,\n",
    ")\n",
    "results = vectorizer.fit_transform(xTrain)\n",
    "\n",
    "counts = pd.DataFrame(results.toarray(), columns=vectorizer.get_feature_names_out()).sum()\n",
    "counts.sort_values(axis=0, ascending=False, inplace=True)\n",
    "print(f\"The most common words overall are:\\n\\n{counts.head(20)}\")"
   ],
   "metadata": {
    "collapsed": false,
    "pycharm": {
     "name": "#%%\n"
    }
   }
  },
  {
   "cell_type": "code",
   "execution_count": 105,
   "outputs": [
    {
     "name": "stdout",
     "output_type": "stream",
     "text": [
      "   feature  tfidf score\n",
      "0    helps     0.394111\n",
      "1     idea     0.368663\n",
      "2  doctors     0.316004\n",
      "3   tested     0.314593\n",
      "4    years     0.262536\n",
      "\n",
      "    feature  tfidf score\n",
      "0  watching     0.334403\n",
      "1     trump     0.329955\n",
      "2     jesus     0.323348\n",
      "3    autism     0.319779\n",
      "4     sheep     0.319209\n",
      "\n"
     ]
    }
   ],
   "source": [
    "def getFeatures(msg):\n",
    "    vectorizer = TfidfVectorizer(\n",
    "        max_df=0.5,\n",
    "        min_df=1e-4,\n",
    "        lowercase=True,\n",
    "    )\n",
    "\n",
    "    xTrainWithMessage = pd.concat([pd.Series([msg]), xTrain])\n",
    "\n",
    "    results = vectorizer.fit_transform(xTrainWithMessage)\n",
    "    features = vectorizer.get_feature_names_out()\n",
    "\n",
    "    row = np.squeeze(results[0].toarray())\n",
    "\n",
    "    featuresLimit = 5\n",
    "    topFeaturesIndices = np.argsort(row)[::-1][:featuresLimit]\n",
    "\n",
    "    topFeatures = [(features[i], row[i]) for i in topFeaturesIndices]\n",
    "    df = pd.DataFrame(topFeatures)\n",
    "    df.columns = [\"feature\", \"tfidf score\"]\n",
    "\n",
    "    print(df)\n",
    "    print()\n",
    "\n",
    "getFeatures(\"I think that the vaccine is a good idea. Vaccine helps people, and has been tested by doctors for years.\")\n",
    "getFeatures(\"Trump is right, vaccine cause autism. Do not listen to the doctors, you sheep. Jesus is watching you.\")\n"
   ],
   "metadata": {
    "collapsed": false,
    "pycharm": {
     "name": "#%%\n"
    }
   }
  }
 ],
 "metadata": {
  "kernelspec": {
   "display_name": "Python 3 (ipykernel)",
   "language": "python",
   "name": "python3"
  },
  "language_info": {
   "codemirror_mode": {
    "name": "ipython",
    "version": 3
   },
   "file_extension": ".py",
   "mimetype": "text/x-python",
   "name": "python",
   "nbconvert_exporter": "python",
   "pygments_lexer": "ipython3",
   "version": "3.10.0"
  }
 },
 "nbformat": 4,
 "nbformat_minor": 1
}