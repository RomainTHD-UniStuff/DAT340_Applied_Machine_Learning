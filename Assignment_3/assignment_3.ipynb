{
 "cells": [
  {
   "cell_type": "code",
   "execution_count": 53,
   "metadata": {
    "collapsed": true,
    "pycharm": {
     "name": "#%%\n"
    }
   },
   "outputs": [
    {
     "name": "stdout",
     "output_type": "stream",
     "text": [
      "Accuracy: 75.5 %\n"
     ]
    }
   ],
   "source": [
    "import pandas as pd\n",
    "from sklearn.model_selection import train_test_split\n",
    "\n",
    "ratingCol = \"rating\"\n",
    "messageCol = \"message\"\n",
    "\n",
    "# Read the data file\n",
    "data = pd.read_csv(\"./a3_train_round1.tsv\", names=[ratingCol, messageCol], sep=\"\\t\").dropna()\n",
    "\n",
    "data[messageCol] = data[messageCol].apply(lambda msg: msg.lower())\n",
    "\n",
    "# Shuffle the dataset.\n",
    "data = data.sample(frac=1.0, random_state=0)\n",
    "\n",
    "# Split into input part X and output part Y.\n",
    "X = data[messageCol]\n",
    "Y = data[ratingCol]\n",
    "\n",
    "# Partition the data into training and test sets.\n",
    "Xtrain, Xtest, Ytrain, Ytest = train_test_split(X, Y, test_size=0.2, random_state=0)\n",
    "\n",
    "from sklearn.feature_extraction.text import TfidfVectorizer\n",
    "from sklearn.svm import LinearSVC\n",
    "from sklearn.pipeline import make_pipeline\n",
    "from sklearn.metrics import accuracy_score\n",
    "\n",
    "pipeline = make_pipeline(TfidfVectorizer(), LinearSVC())\n",
    "pipeline.fit(Xtrain, Ytrain)\n",
    "\n",
    "print(\"Accuracy: %.1f %%\" % (accuracy_score(Ytest, pipeline.predict(Xtest)) * 100))\n"
   ]
  },
  {
   "cell_type": "code",
   "execution_count": 47,
   "outputs": [
    {
     "name": "stdout",
     "output_type": "stream",
     "text": [
      "Accuracy: 74.4 %\n"
     ]
    }
   ],
   "source": [
    "import pandas as pd\n",
    "from sklearn.model_selection import train_test_split\n",
    "from sklearn.feature_extraction.text import CountVectorizer\n",
    "\n",
    "ratingCol = \"rating\"\n",
    "messageCol = \"message\"\n",
    "\n",
    "# Read the data file\n",
    "data = pd.read_csv(\"./a3_train_round1.tsv\", names=[ratingCol, messageCol], sep=\"\\t\").dropna()\n",
    "\n",
    "# data[ratingCol] = data[ratingCol].apply(lambda score: \"+\" if score == 1 else \"-\")\n",
    "\n",
    "# Shuffle the dataset.\n",
    "data = data.sample(frac=1.0, random_state=0)\n",
    "\n",
    "# Split into input part X and output part Y.\n",
    "X = data[messageCol]\n",
    "data_labels = data[ratingCol]\n",
    "\n",
    "vectorizer = CountVectorizer(\n",
    "    analyzer='word',\n",
    "    lowercase=False,\n",
    ")\n",
    "features = vectorizer.fit_transform(\n",
    "    X\n",
    ")\n",
    "features_nd = features.toarray()\n",
    "\n",
    "# Partition the data into training and test sets.\n",
    "Xtrain, Xtest, Ytrain, Ytest = train_test_split(features_nd, data_labels, test_size=0.2, random_state=0)\n",
    "\n",
    "from sklearn.linear_model import LogisticRegression\n",
    "\n",
    "log_model = LogisticRegression(max_iter=1000)\n",
    "\n",
    "log_model = log_model.fit(X=Xtrain, y=Ytrain)\n",
    "\n",
    "print(\"Accuracy: %.1f %%\" % (accuracy_score(Ytest, log_model.predict(Xtest)) * 100))\n"
   ],
   "metadata": {
    "collapsed": false,
    "pycharm": {
     "name": "#%%\n"
    }
   }
  }
 ],
 "metadata": {
  "kernelspec": {
   "display_name": "Python 3",
   "language": "python",
   "name": "python3"
  },
  "language_info": {
   "codemirror_mode": {
    "name": "ipython",
    "version": 2
   },
   "file_extension": ".py",
   "mimetype": "text/x-python",
   "name": "python",
   "nbconvert_exporter": "python",
   "pygments_lexer": "ipython2",
   "version": "2.7.6"
  }
 },
 "nbformat": 4,
 "nbformat_minor": 0
}