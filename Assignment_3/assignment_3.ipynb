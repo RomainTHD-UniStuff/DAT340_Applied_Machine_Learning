{
 "cells": [
  {
   "cell_type": "code",
   "execution_count": 1,
   "metadata": {
    "collapsed": true,
    "pycharm": {
     "name": "#%%\n"
    }
   },
   "outputs": [],
   "source": [
    "from typing import Callable\n",
    "import pandas as pd\n",
    "import sns as sns\n",
    "from sklearn.feature_extraction.text import TfidfVectorizer\n",
    "from sklearn.svm import LinearSVC\n",
    "from sklearn.pipeline import make_pipeline\n",
    "from sklearn.metrics import accuracy_score\n",
    "\n",
    "ratingCol = \"rating\"\n",
    "messageCol = \"message\"\n",
    "randomSeed = 0\n",
    "\n",
    "# Read the data files\n",
    "dataTrain = pd.read_csv(\"./a3_train.tsv\", names=[ratingCol, messageCol], sep=\"\\t\").dropna()\n",
    "dataTest = pd.read_csv(\"./a3_test.tsv\", names=[ratingCol, messageCol], sep=\"\\t\").dropna()\n",
    "\n",
    "# Shuffle the dataset.\n",
    "dataTrain = dataTrain.sample(frac=1.0, random_state=randomSeed)\n",
    "dataTest = dataTest.sample(frac=1.0, random_state=randomSeed)\n",
    "\n",
    "dataTrain[messageCol] = dataTrain[messageCol].apply(lambda msg: msg.lower())\n",
    "dataTest[messageCol] = dataTest[messageCol].apply(lambda msg: msg.lower())\n",
    "\n",
    "\n",
    "def getTrainData(ratingFunc: Callable[[tuple[int]], int]) -> (pd.Series, pd.Series):\n",
    "    dataModified = pd.DataFrame()\n",
    "    dataModified[messageCol] = dataTrain[messageCol]\n",
    "    dataModified[ratingCol] = dataTrain[ratingCol].apply(lambda elt: ratingFunc(tuple(map(int, elt.split(\"/\")))))\n",
    "    dataModified = dataModified[dataModified[ratingCol] != -1]\n",
    "    return dataModified[messageCol], dataModified[ratingCol]\n",
    "\n",
    "\n",
    "def printAccuracy(ratingFunc: Callable[[tuple[int]], int]) -> None:\n",
    "    xTrain, yTrain = getTrainData(ratingFunc)\n",
    "\n",
    "    pipeline = make_pipeline(TfidfVectorizer(\n",
    "        max_df=0.5,\n",
    "        min_df=1e-4,\n",
    "    ), LinearSVC())\n",
    "    pipeline.fit(xTrain, yTrain)\n",
    "    # HashingVectorizer()\n",
    "\n",
    "    print(\"Accuracy: %.2f %%\" % (accuracy_score(yTest, pipeline.predict(xTest)) * 100))\n",
    "\n",
    "\n",
    "xTest, yTest = dataTest[messageCol], dataTest[ratingCol]\n"
   ]
  },
  {
   "cell_type": "code",
   "execution_count": 3,
   "metadata": {
    "pycharm": {
     "name": "#%%\n"
    }
   },
   "outputs": [
    {
     "name": "stdout",
     "output_type": "stream",
     "text": [
      "Accuracy: 86.80 %\n",
      "Accuracy: 86.62 %\n"
     ]
    }
   ],
   "source": [
    "def majorityClassificationNoBad(ratings: tuple[int]) -> int:\n",
    "    if -1 in ratings:\n",
    "        return -1\n",
    "\n",
    "    return round(sum(ratings) / len(ratings))\n",
    "\n",
    "\n",
    "printAccuracy(majorityClassificationNoBad)\n",
    "\n",
    "\n",
    "def majorityClassificationWithBad(ratings: tuple[int]) -> int:\n",
    "    ratings = tuple(filter(lambda r: r != -1, ratings))\n",
    "\n",
    "    return round(sum(ratings) / len(ratings))\n",
    "\n",
    "\n",
    "printAccuracy(majorityClassificationWithBad)\n"
   ]
  },
  {
   "cell_type": "code",
   "execution_count": 53,
   "metadata": {
    "pycharm": {
     "name": "#%%\n"
    }
   },
   "outputs": [
    {
     "name": "stdout",
     "output_type": "stream",
     "text": [
      "Accuracy: 86.71 %\n",
      "Accuracy: 86.36 %\n"
     ]
    }
   ],
   "source": [
    "def zeroPrioritizedNoBad(ratings: tuple[int]) -> int:\n",
    "    if -1 in ratings:\n",
    "        return -1\n",
    "\n",
    "    if all(ratings):\n",
    "        # All ratings are 1\n",
    "        return 1\n",
    "\n",
    "    return 0\n",
    "\n",
    "\n",
    "printAccuracy(zeroPrioritizedNoBad)\n",
    "\n",
    "\n",
    "def zeroPrioritizedWithBad(ratings: tuple[int]) -> int:\n",
    "    ratings = tuple(filter(lambda r: r != -1, ratings))\n",
    "    if len(ratings) == 0:\n",
    "        return -1\n",
    "\n",
    "    if all(ratings):\n",
    "        # All ratings are 1\n",
    "        return 1\n",
    "\n",
    "    return 0\n",
    "\n",
    "\n",
    "printAccuracy(zeroPrioritizedWithBad)\n"
   ]
  },
  {
   "cell_type": "code",
   "execution_count": 57,
   "metadata": {
    "pycharm": {
     "name": "#%%\n"
    }
   },
   "outputs": [
    {
     "name": "stdout",
     "output_type": "stream",
     "text": [
      "Accuracy: 86.71 %\n",
      "Accuracy: 86.80 %\n"
     ]
    }
   ],
   "source": [
    "def onePrioritizedNoBad(ratings: tuple[int]) -> int:\n",
    "    if -1 in ratings:\n",
    "        return -1\n",
    "\n",
    "    if not any(ratings):\n",
    "        # All ratings are 0\n",
    "        return 0\n",
    "\n",
    "    return 1\n",
    "\n",
    "\n",
    "printAccuracy(onePrioritizedNoBad)\n",
    "\n",
    "\n",
    "def onePrioritizedWithBad(ratings: tuple[int]) -> int:\n",
    "    ratings = tuple(filter(lambda r: r != -1, ratings))\n",
    "    if len(ratings) == 0:\n",
    "        return -1\n",
    "\n",
    "    if not any(ratings):\n",
    "        # All ratings are 0\n",
    "        return 0\n",
    "\n",
    "    return 1\n",
    "\n",
    "\n",
    "printAccuracy(onePrioritizedWithBad)\n"
   ]
  },
  {
   "cell_type": "code",
   "execution_count": 55,
   "metadata": {
    "pycharm": {
     "name": "#%%\n"
    }
   },
   "outputs": [
    {
     "name": "stdout",
     "output_type": "stream",
     "text": [
      "Accuracy: 49.38 %\n"
     ]
    }
   ],
   "source": [
    "import random\n",
    "\n",
    "random.seed(randomSeed)\n",
    "\n",
    "\n",
    "def randomClassification(_ratings: tuple[int]) -> int:\n",
    "    return random.randint(0, 1)\n",
    "\n",
    "\n",
    "printAccuracy(randomClassification)"
   ]
  },
  {
   "cell_type": "code",
   "execution_count": 6,
   "metadata": {
    "pycharm": {
     "name": "#%%\n"
    }
   },
   "outputs": [
    {
     "data": {
      "text/plain": "<Figure size 432x288 with 1 Axes>",
      "image/png": "[encoded data removed]"
     },
     "metadata": {
      "needs_background": "light"
     },
     "output_type": "display_data"
    }
   ],
   "source": [
    "import matplotlib.pyplot as plt\n",
    "import math\n",
    "\n",
    "# Calculate different accuracies\n",
    "accuracies = []\n",
    "freqs = (0.4, 0.41, 0.42, 0.43, 0.47)\n",
    "\n",
    "xTrain, yTrain = getTrainData(majorityClassificationNoBad)\n",
    "\n",
    "for freq in freqs:\n",
    "    pipeline = make_pipeline(TfidfVectorizer(\n",
    "        max_df=freq,\n",
    "        min_df=1e-4,\n",
    "    ), LinearSVC())\n",
    "    pipeline.fit(xTrain, yTrain)\n",
    "\n",
    "    accuracy = accuracy_score(yTest, pipeline.predict(xTest))\n",
    "    accuracies.append(accuracy)\n",
    "\n",
    "# Plotting the graph\n",
    "plt.plot([math.log(f, 10) for f in freqs], accuracies, c=\"red\", marker=\"x\", label=\"TfidfVectorizer\")\n",
    "plt.xlabel(\"Frequency, logarithmic\")\n",
    "plt.ylabel(\"Accuracy, logarithmic\")\n",
    "plt.title(\"Accuracy evolution with a max frequency\")\n",
    "plt.legend()\n",
    "plt.show()"
   ]
  },
  {
   "cell_type": "code",
   "execution_count": 16,
   "outputs": [
    {
     "data": {
      "text/plain": "                                             comment   predicted      actual\n0  my mother got 1st shot of pfizer hours later -...  Supporting     Against\n1  don't take their vaccines, do your own researc...  Supporting     Against\n2  the government explains the effectiveness of t...     Against  Supporting\n3  just because vaccines aren’t perfect doesn’t n...     Against  Supporting\n4                        im getting my covid vaccine     Against  Supporting\n5  yeah, it's really difficult to choose between ...     Against  Supporting\n6  there should be more measures or schemes to im...  Supporting     Against\n7  when the most evil people on the planet are te...  Supporting     Against\n8  there also needs to be urgent outreach to youn...     Against  Supporting\n9                             no other effective way     Against  Supporting",
      "text/html": "<div>\n<style scoped>\n    .dataframe tbody tr th:only-of-type {\n        vertical-align: middle;\n    }\n\n    .dataframe tbody tr th {\n        vertical-align: top;\n    }\n\n    .dataframe thead th {\n        text-align: right;\n    }\n</style>\n<table border=\"1\" class=\"dataframe\">\n  <thead>\n    <tr style=\"text-align: right;\">\n      <th></th>\n      <th>comment</th>\n      <th>predicted</th>\n      <th>actual</th>\n    </tr>\n  </thead>\n  <tbody>\n    <tr>\n      <th>0</th>\n      <td>my mother got 1st shot of pfizer hours later -...</td>\n      <td>Supporting</td>\n      <td>Against</td>\n    </tr>\n    <tr>\n      <th>1</th>\n      <td>don't take their vaccines, do your own researc...</td>\n      <td>Supporting</td>\n      <td>Against</td>\n    </tr>\n    <tr>\n      <th>2</th>\n      <td>the government explains the effectiveness of t...</td>\n      <td>Against</td>\n      <td>Supporting</td>\n    </tr>\n    <tr>\n      <th>3</th>\n      <td>just because vaccines aren’t perfect doesn’t n...</td>\n      <td>Against</td>\n      <td>Supporting</td>\n    </tr>\n    <tr>\n      <th>4</th>\n      <td>im getting my covid vaccine</td>\n      <td>Against</td>\n      <td>Supporting</td>\n    </tr>\n    <tr>\n      <th>5</th>\n      <td>yeah, it's really difficult to choose between ...</td>\n      <td>Against</td>\n      <td>Supporting</td>\n    </tr>\n    <tr>\n      <th>6</th>\n      <td>there should be more measures or schemes to im...</td>\n      <td>Supporting</td>\n      <td>Against</td>\n    </tr>\n    <tr>\n      <th>7</th>\n      <td>when the most evil people on the planet are te...</td>\n      <td>Supporting</td>\n      <td>Against</td>\n    </tr>\n    <tr>\n      <th>8</th>\n      <td>there also needs to be urgent outreach to youn...</td>\n      <td>Against</td>\n      <td>Supporting</td>\n    </tr>\n    <tr>\n      <th>9</th>\n      <td>no other effective way</td>\n      <td>Against</td>\n      <td>Supporting</td>\n    </tr>\n  </tbody>\n</table>\n</div>"
     },
     "execution_count": 16,
     "metadata": {},
     "output_type": "execute_result"
    }
   ],
   "source": [
    "pipeline = make_pipeline(TfidfVectorizer(\n",
    "    max_df=0.5,\n",
    "    min_df=1e-4,\n",
    "), LinearSVC())\n",
    "pipeline.fit(xTrain, yTrain)\n",
    "\n",
    "yPred = pipeline.predict(xTest)\n",
    "\n",
    "df = pd.DataFrame({\"comment\": [], \"predicted\": [], \"actual\": []})\n",
    "\n",
    "for elt, pred, actual in zip(xTest, yPred, yTest):\n",
    "    if pred != actual:\n",
    "        df = df.append({\n",
    "            \"comment\": elt,\n",
    "            \"predicted\": \"Supporting\" if pred else \"Against\",\n",
    "            \"actual\": \"Supporting\" if actual else \"Against\",\n",
    "        }, ignore_index=True)\n",
    "\n",
    "df.head(10)"
   ],
   "metadata": {
    "collapsed": false,
    "pycharm": {
     "name": "#%%\n"
    }
   }
  },
  {
   "cell_type": "code",
   "execution_count": 17,
   "outputs": [
    {
     "data": {
      "text/plain": "<Figure size 1296x432 with 2 Axes>",
      "image/png": "[encoded data removed]"
     },
     "metadata": {
      "needs_background": "light"
     },
     "output_type": "display_data"
    }
   ],
   "source": [
    "from sklearn.metrics import confusion_matrix\n",
    "import seaborn as sns\n",
    "\n",
    "# Compare the predicted results to the real ones\n",
    "accuracy = accuracy_score(yTest, yPred)\n",
    "\n",
    "# Generate the confusion matrix based on the predictions and the actual results\n",
    "cm = confusion_matrix(yTest, yPred, normalize=\"true\")\n",
    "\n",
    "labels = [\"Anti-vaccination\", \"Pro-vaccination\"]\n",
    "\n",
    "plt.figure(figsize=(18, 6))\n",
    "sns.heatmap(cm, annot=True, square=True, cmap=\"Reds\", xticklabels=labels, yticklabels=labels)\n",
    "plt.xlabel(\"Predicted label\")\n",
    "plt.ylabel(\"Actual label\")\n",
    "plt.title(\"Confusion matrix\")\n",
    "plt.show()\n"
   ],
   "metadata": {
    "collapsed": false,
    "pycharm": {
     "name": "#%%\n"
    }
   }
  }
 ],
 "metadata": {
  "kernelspec": {
   "display_name": "Python 3 (ipykernel)",
   "language": "python",
   "name": "python3"
  },
  "language_info": {
   "codemirror_mode": {
    "name": "ipython",
    "version": 2
   },
   "file_extension": ".py",
   "mimetype": "text/x-python",
   "name": "python",
   "nbconvert_exporter": "python",
   "pygments_lexer": "ipython2",
   "version": "2.7.6"
  }
 },
 "nbformat": 4,
 "nbformat_minor": 1
}