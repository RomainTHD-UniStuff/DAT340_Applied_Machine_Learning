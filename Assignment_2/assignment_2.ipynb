{
 "cells": [
  {
   "cell_type": "markdown",
   "metadata": {
    "collapsed": true,
    "pycharm": {
     "name": "#%% md\n"
    }
   },
   "source": [
    "DAT340, Assignment 2\n",
    "\n",
    "Romain THEODET"
   ]
  },
  {
   "cell_type": "markdown",
   "source": [
    "### Task 1"
   ],
   "metadata": {
    "collapsed": false,
    "pycharm": {
     "name": "#%% md\n"
    }
   }
  },
  {
   "cell_type": "markdown",
   "source": [
    "Step 1"
   ],
   "metadata": {
    "collapsed": false
   }
  },
  {
   "cell_type": "code",
   "execution_count": 13,
   "outputs": [],
   "source": [
    "import pandas as pd\n",
    "\n",
    "# Read the CSV file.\n",
    "dataTrain = pd.read_csv(\"adult_train.csv\")\n",
    "dataTest = pd.read_csv(\"adult_test.csv\")\n",
    "\n",
    "# Shuffle the dataset.\n",
    "dataTrainShuffled = dataTrain.sample(frac=1.0, random_state=0)\n",
    "dataTestShuffled = dataTest.sample(frac=1.0, random_state=0)\n",
    "\n",
    "# Partition the data into training and test sets\n",
    "Xtrain = dataTrainShuffled.drop(\"target\", axis=1)\n",
    "Ytrain = dataTrainShuffled[\"target\"].dropna()\n",
    "Xtest = dataTestShuffled.drop(\"target\", axis=1)\n",
    "Ytest = dataTestShuffled[\"target\"].dropna()\n"
   ],
   "metadata": {
    "collapsed": false,
    "pycharm": {
     "name": "#%%\n"
    }
   }
  },
  {
   "cell_type": "markdown",
   "source": [
    "Step 2"
   ],
   "metadata": {
    "collapsed": false
   }
  },
  {
   "cell_type": "code",
   "execution_count": 14,
   "outputs": [
    {
     "name": "stdout",
     "output_type": "stream",
     "text": [
      "Cross-validation score: 0.8189553985961172\n"
     ]
    }
   ],
   "source": [
    "from sklearn.feature_extraction import DictVectorizer\n",
    "from sklearn.tree import DecisionTreeClassifier\n",
    "from sklearn.model_selection import cross_val_score\n",
    "\n",
    "import numpy as np\n",
    "\n",
    "Xtrain = Xtrain.to_dict(\"records\")\n",
    "Xtest = Xtest.to_dict(\"records\")\n",
    "\n",
    "dv = DictVectorizer()\n",
    "XtrainEnc = dv.fit_transform(Xtrain)\n",
    "XtestEnc = dv.transform(Xtest)\n",
    "\n",
    "print(\"Cross-validation score:\", np.mean(cross_val_score(DecisionTreeClassifier(), XtrainEnc, Ytrain)))"
   ],
   "metadata": {
    "collapsed": false,
    "pycharm": {
     "name": "#%%\n"
    }
   }
  },
  {
   "cell_type": "markdown",
   "source": [
    "Step 3"
   ],
   "metadata": {
    "collapsed": false
   }
  },
  {
   "cell_type": "code",
   "execution_count": 9,
   "outputs": [
    {
     "name": "stdout",
     "output_type": "stream",
     "text": [
      "Cross-validation score: 0.8187404297434238\n"
     ]
    }
   ],
   "source": [
    "from sklearn.pipeline import make_pipeline\n",
    "from sklearn.model_selection import cross_val_score\n",
    "\n",
    "pipeline = make_pipeline(\n",
    "    DictVectorizer(),\n",
    "    DecisionTreeClassifier()\n",
    ")\n",
    "\n",
    "model = pipeline.fit(Xtrain, Ytrain)\n",
    "print(\"Cross-validation score:\", np.mean(cross_val_score(model, Xtrain, Ytrain)))"
   ],
   "metadata": {
    "collapsed": false,
    "pycharm": {
     "name": "#%%\n"
    }
   }
  },
  {
   "cell_type": "markdown",
   "source": [
    "### Task 2\n",
    "\n",
    "Decision tree classifier"
   ],
   "metadata": {
    "collapsed": false
   }
  },
  {
   "cell_type": "code",
   "execution_count": 10,
   "outputs": [
    {
     "data": {
      "text/plain": "[<matplotlib.lines.Line2D at 0x220ca63a0b0>]"
     },
     "execution_count": 10,
     "metadata": {},
     "output_type": "execute_result"
    },
    {
     "data": {
      "text/plain": "<Figure size 432x288 with 1 Axes>",
      "image/png": "[encoded data removed]"
     },
     "metadata": {
      "needs_background": "light"
     },
     "output_type": "display_data"
    }
   ],
   "source": [
    "import matplotlib.pyplot as plt\n",
    "from sklearn.metrics import accuracy_score\n",
    "\n",
    "scoresTest = []\n",
    "scores = []\n",
    "depths = []\n",
    "\n",
    "for depth in range(1, 15):\n",
    "    pipeline = make_pipeline(\n",
    "        DictVectorizer(),\n",
    "        DecisionTreeClassifier(max_depth=depth)\n",
    "    )\n",
    "\n",
    "    model = pipeline.fit(Xtrain, Ytrain)\n",
    "    Yguess = model.predict(Xtest)\n",
    "    scores.append(np.mean(cross_val_score(model, Xtrain, Ytrain)))\n",
    "    scoresTest.append(accuracy_score(Ytest, Yguess))\n",
    "    depths.append(depth)\n",
    "\n",
    "plt.plot(depths, scoresTest, color=\"blue\", label=\"Test accuracy\")\n",
    "plt.plot(depths, scores, color=\"red\", label=\"Cross-validation accuracy\")"
   ],
   "metadata": {
    "collapsed": false,
    "pycharm": {
     "name": "#%%\n"
    }
   }
  },
  {
   "cell_type": "markdown",
   "source": [
    "Random forest classifier"
   ],
   "metadata": {
    "collapsed": false
   }
  },
  {
   "cell_type": "code",
   "execution_count": 15,
   "outputs": [
    {
     "name": "stdout",
     "output_type": "stream",
     "text": [
      "2\n",
      "3\n",
      "4\n",
      "5\n",
      "6\n",
      "7\n",
      "8\n",
      "9\n",
      "10\n",
      "11\n",
      "12\n",
      "13\n",
      "14\n",
      "15\n",
      "16\n",
      "17\n",
      "18\n",
      "19\n",
      "20\n",
      "30\n",
      "40\n",
      "50\n",
      "60\n",
      "70\n",
      "80\n",
      "90\n",
      "100\n",
      "125\n",
      "150\n",
      "175\n",
      "200\n",
      "225\n",
      "250\n",
      "275\n",
      "300\n"
     ]
    },
    {
     "data": {
      "text/plain": "[<matplotlib.lines.Line2D at 0x220d5e41ae0>]"
     },
     "execution_count": 15,
     "metadata": {},
     "output_type": "execute_result"
    },
    {
     "data": {
      "text/plain": "<Figure size 432x288 with 1 Axes>",
      "image/png": "[encoded data removed]"
     },
     "metadata": {
      "needs_background": "light"
     },
     "output_type": "display_data"
    }
   ],
   "source": [
    "from sklearn.ensemble import RandomForestClassifier\n",
    "\n",
    "scoresTest = []\n",
    "scores = []\n",
    "depths = []\n",
    "\n",
    "depth = 1\n",
    "while depth < 300:\n",
    "    nbJobs = None if depth < 20 else -1\n",
    "    pipeline = make_pipeline(\n",
    "        DictVectorizer(),\n",
    "        RandomForestClassifier(n_estimators=depth, n_jobs=nbJobs)\n",
    "    )\n",
    "\n",
    "    model = pipeline.fit(Xtrain, Ytrain)\n",
    "    Yguess = model.predict(Xtest)\n",
    "    scores.append(np.mean(cross_val_score(model, Xtrain, Ytrain)))\n",
    "    scoresTest.append(accuracy_score(Ytest, Yguess))\n",
    "    depths.append(depth)\n",
    "\n",
    "    if depth < 20:\n",
    "        depth += 1\n",
    "    elif depth < 100:\n",
    "        depth += 10\n",
    "    else:\n",
    "        depth += 25\n",
    "\n",
    "    print(depth)\n",
    "\n",
    "plt.plot(depths, scoresTest, color=\"blue\", label=\"Test accuracy\")\n",
    "plt.plot(depths, scores, color=\"red\", label=\"Cross-validation accuracy\")"
   ],
   "metadata": {
    "collapsed": false,
    "pycharm": {
     "name": "#%%\n"
    }
   }
  },
  {
   "cell_type": "code",
   "execution_count": 16,
   "outputs": [
    {
     "data": {
      "text/plain": "[<matplotlib.lines.Line2D at 0x220d94071f0>]"
     },
     "execution_count": 16,
     "metadata": {},
     "output_type": "execute_result"
    },
    {
     "data": {
      "text/plain": "<Figure size 432x288 with 1 Axes>",
      "image/png": "[encoded data removed]"
     },
     "metadata": {
      "needs_background": "light"
     },
     "output_type": "display_data"
    }
   ],
   "source": [
    "scoresTest = []\n",
    "scores = []\n",
    "depths = []\n",
    "\n",
    "for depth in range(1, 15):\n",
    "    pipeline = make_pipeline(\n",
    "        DictVectorizer(),\n",
    "        RandomForestClassifier(n_estimators=1, max_depth=depth)\n",
    "    )\n",
    "\n",
    "    model = pipeline.fit(Xtrain, Ytrain)\n",
    "    Yguess = model.predict(Xtest)\n",
    "    scores.append(np.mean(cross_val_score(model, Xtrain, Ytrain)))\n",
    "    scoresTest.append(accuracy_score(Ytest, Yguess))\n",
    "    depths.append(depth)\n",
    "\n",
    "plt.plot(depths, scoresTest, color=\"blue\", label=\"Test accuracy\")\n",
    "plt.plot(depths, scores, color=\"red\", label=\"Cross-validation accuracy\")"
   ],
   "metadata": {
    "collapsed": false,
    "pycharm": {
     "name": "#%%\n"
    }
   }
  },
  {
   "cell_type": "markdown",
   "source": [
    "- The curve for a decision tree with an ensemble size of 1 is clearly different from the one for a random forest.\n",
    "An explanation could be that random forests use a sampling of the training data to train the model, while decision trees use the whole training data.\n",
    "As such, the decision tree is more prone to overfitting.\n",
    "- When the ensemble size grows, the accuracy of the model get better and the model converges (around a size of 25).\n",
    "- The training time gets longer as the forest size grows, but the accuracy still gets better."
   ],
   "metadata": {
    "collapsed": false,
    "pycharm": {
     "name": "#%% md\n"
    }
   }
  },
  {
   "cell_type": "markdown",
   "source": [
    "### Task 3"
   ],
   "metadata": {
    "collapsed": false
   }
  },
  {
   "cell_type": "code",
   "execution_count": 24,
   "outputs": [
    {
     "data": {
      "text/plain": "<Figure size 432x288 with 1 Axes>",
      "image/png": "[encoded data removed]"
     },
     "metadata": {
      "needs_background": "light"
     },
     "output_type": "display_data"
    },
    {
     "name": "stdout",
     "output_type": "stream",
     "text": [
      "Most important feature: 'age'\n"
     ]
    }
   ],
   "source": [
    "pipeline = make_pipeline(\n",
    "    DictVectorizer(),\n",
    "    RandomForestClassifier(n_estimators=5, n_jobs=-1)\n",
    ")\n",
    "\n",
    "model = pipeline.fit(Xtrain, Ytrain)\n",
    "features = model.steps[0][1].feature_names_\n",
    "importances = model.steps[1][1].feature_importances_\n",
    "sortIndices = np.argsort(importances)[::-1]\n",
    "importancesSorted = [importances[i] for i in sortIndices]\n",
    "featuresSorted = [features[i] for i in sortIndices]\n",
    "\n",
    "plt.title(\"Features importance\")\n",
    "plt.plot(range(len(sortIndices)), importancesSorted)\n",
    "plt.ylabel(\"Importance\")\n",
    "plt.show()\n",
    "\n",
    "print(f\"Most important feature: '{featuresSorted[0]}'\")"
   ],
   "metadata": {
    "collapsed": false,
    "pycharm": {
     "name": "#%%\n"
    }
   }
  },
  {
   "cell_type": "markdown",
   "source": [
    "Based on the work of Parr et al., another way to compute the importance of a feature would simply be to drop the feature (by removing a column)\n",
    "and recompute the accuracy of the model on the remaining features to determine the importance of this feature on the model.\n"
   ],
   "metadata": {
    "collapsed": false
   }
  }
 ],
 "metadata": {
  "kernelspec": {
   "display_name": "Python 3",
   "language": "python",
   "name": "python3"
  },
  "language_info": {
   "codemirror_mode": {
    "name": "ipython",
    "version": 2
   },
   "file_extension": ".py",
   "mimetype": "text/x-python",
   "name": "python",
   "nbconvert_exporter": "python",
   "pygments_lexer": "ipython2",
   "version": "2.7.6"
  }
 },
 "nbformat": 4,
 "nbformat_minor": 0
}